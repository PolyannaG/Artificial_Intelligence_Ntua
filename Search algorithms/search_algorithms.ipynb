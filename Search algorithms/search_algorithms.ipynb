{
  "nbformat": 4,
  "nbformat_minor": 0,
  "metadata": {
    "colab": {
      "name": "search_algorithms.ipynb",
      "provenance": [],
      "collapsed_sections": [
        "k4B8EEBhClt2"
      ]
    },
    "kernelspec": {
      "display_name": "Python 3",
      "name": "python3"
    }
  },
  "cells": [

    {
      "cell_type": "markdown",
      "metadata": {
        "id": "CCcGFAb8nULW"
      },
      "source": [
        "# Τεχνητή Νοημοσύνη: Εργαστηριακή Άσκηση 1\n",
        "\n",
        "    \n",
        "\n",
        "---\n",
        "\n",
        "\n",
        "\n",
        "Ο στόχος της εργασίας είναι η εφαρμογή αλγορίθμων αναζήτησης και εύρεσης καλύτερου μονοπατιού σε λαβύρινθο διαστάσεων $N\\times N$\n"
      ]
    },
    {
      "cell_type": "markdown",
      "metadata": {
        "id": "PPcLy1P7naLP"
      },
      "source": [
        "# Εκφώνηση\n",
        "\n",
        "## Μέρος 1\n",
        "Ο στόχος του πρώτου μέρους είναι η κατασκευή **λαβυρίνθων**. [Σε αυτό το άρθρο της Wikipedia](https://en.wikipedia.org/wiki/Maze_generation_algorithm) μπορείτε να βρείτε διάφορους αλγορίθμους για αυτό το σκοπό. Προσέξτε ότι οι αλγόριθμοι του παραπάνω άρθρου κατασκευάζουν ένα μόνο μονοπάτι από κάθε σημείο του λαβυρίνθου προς οποιοδήποτε άλλο (η δομή του λαβυρίνθου έχει μορφή συνεκτικού δέντρου). Καλείστε να τροποποιήσετε τον αλγόριθμο της επιλογής σας (ενδεχομένως και πέραν αυτών που υπάρχουν στο προαναφερθέν άρθρο) ώστε οι λαβύρινθοι που κατασκευάζει να έχουν τουλάχιστον δύο (2) μονοπάτια μεταξύ ενός σημείου αφετηρίας (S) και ενός σημείου τερματισμού (F). Η τροποποίηση του αλγορίθμου μπορεί να γίνει και με πιθανοτικό τρόπο, αλλά σε αυτή την περίπτωση θα πρέπει να βεβαιωθείτε πως οι λαβύρινθοι που θα χρησιμοποιήσετε στα επόμενα ερωτήματα έχουν τουλάχιστον δύο μονοπάτια μεταξύ των S και F. Αναφέρετε ποιον αλγόριθμο επιλέξατε, περιγράψτε τον συνοπτικά καθώς και τον τρόπο που αντιμετωπίσατε το παραπάνω πρόβλημα, και υλοποιήστε τον στο κελί κώδικα του Μέρους 1.\n",
        "\n",
        "Σε όλα τα ερωτήματα φροντίστε να χρησιμοποιήσετε **δομημένο** κώδικα, με **σχόλια** που επισημαίνουν τη λογική του.\n",
        "\n",
        "\n",
        "### Παραδείγματα λαβυρίνθων\n",
        "![index1.png](data:image/png;base64,iVBORw0KGgoAAAANSUhEUgAAAOsAAADrCAYAAACICmHVAAAABHNCSVQICAgIfAhkiAAAAAlwSFlzAAALEgAACxIB0t1+/AAAADh0RVh0U29mdHdhcmUAbWF0cGxvdGxpYiB2ZXJzaW9uMy4yLjIsIGh0dHA6Ly9tYXRwbG90bGliLm9yZy+WH4yJAAADhUlEQVR4nO3dwW0UMQCGURvRB0VsBXRBi+mCCuiBOz0MlxyDYJF3x9/se8ckGo3W+uRIkf7M4zgGsL9PZ78A8G/EChFihQixQoRYIUKsEPH5nh+ec/o7DzzYcRzzo6+7WSFCrBAhVogQK0SIFSLEChFihQixQoRYIUKsECFWiBArRIgVIsQKEWKFCLFChFghQqwQcdesy2o7/zeA29vXpc/78e370uft/Nm9mjk/XGFZzs0KEWKFCLFChFghQqwQIVaIECtEiBUixAoRYoUIsUKEWCFCrBAhVogQK0SIFSLEChFihQixQsSpG0yrPWsL54pe6bOr7le5WSFCrBAhVogQK0SIFSLEChFihQixQoRYIUKsECFWiBArRIgVIsQKEWKFCLFChFghQqwQcalZl53nOl5pNmWMvc+iys0KEWKFCLFChFghQqwQIVaIECtEiBUixAoRYoUIsUKEWCFCrBAhVogQK0SIFSLEChFihQixQsSlNphW7hzZENqLs3WzQoZYIUKsECFWiBArRIgVIsQKEWKFCLFChFghQqwQIVaIECtEiBUixAoRYoUIsUKEWCFCrBBxqQ2mnbd1dn63Ap+fmxUyxAoRYoUIsUKEWCFCrBAhVogQK0SIFSLEChFihQixQoRYIUKsECFWiBArRIgVIsQKEWKFiEttMM05z34FHmTl2Vb3nNysECFWiBArRIgVIsQKEWKFCLFChFghQqwQIVaIECtEiBUixAoRYoUIsUKEWCFCrBAhVogQK0RcaoOpuq3D360827fbbdmznsnNChFihQixQoRYIUKsECFWiBArRIgVIsQKEWKFCLFChFghQqwQIVaIECtEiBUixAoRYoUIsULEpTaY5pxnvwLvVu9hOVs3K2SIFSLEChFihQixQoRYIUKsECFWiBArRIgVIsQKEWKFCLFChFghQqwQIVaIECtEiBUiLjXrsnpKhH3sfLbPmpxxs0KEWCFCrBAhVogQK0SIFSLEChFihQixQoRYIUKsECFWiBArRIgVIsQKEWKFCLFChFghQqwQceoG07O2a+AK3KwQIVaIECtEiBUixAoRYoUIsUKEWCFCrBAhVogQK0SIFSLEChFihQixQoRYIUKsECFWiBArRNy7wfRrjPHzES8CjDHG+PKnb8zjOJ75IsB/8mswRIgVIsQKEWKFCLFChFghQqwQIVaIECtE/AZROUHZqFYHAAAAAABJRU5ErkJggg==)\n",
        "![index2.png](data:image/png;base64,iVBORw0KGgoAAAANSUhEUgAAAOsAAADrCAYAAACICmHVAAAABHNCSVQICAgIfAhkiAAAAAlwSFlzAAALEgAACxIB0t1+/AAAADh0RVh0U29mdHdhcmUAbWF0cGxvdGxpYiB2ZXJzaW9uMy4yLjIsIGh0dHA6Ly9tYXRwbG90bGliLm9yZy+WH4yJAAAEvklEQVR4nO3d0W0bRxRA0WWQPlKEKkgXadFduAL3kP/0wPwKiBQu7eHwXeqcz9iIhyNfjIE3u7xcr9cDmO+3Zy8AOEesECFWiBArRIgVIsQKEb/f85svl4s5DzzY9Xq9fPTfnawQIVaIECtEiBUixAoRYoUIsULEXXPWMzxyB5+7XD4coZ7iZIUIsUKEWCFCrBAhVogQK0SIFSKWz1lvOTNnOjOr/ZV51Ve2am9v/X++6s/nkfcMnKwQIVaIECtEiBUixAoRYoUIsUKEWCFi+6WInVYMqN++/Xnz9/z46/vD13FW6TLCrgsaqzx7b52sECFWiBArRIgVIsQKEWKFCLFChFghYuSliF3D52cPud+bNPx/Na+yt05WiBArRIgVIsQKEWKFCLFChFghQqwQsf1SRGH4/N6ur/JYtS9T9nfKOl6JkxUixAoRYoUIsUKEWCFCrBAhVohYPmed9ED3FKv2ZNfM9ww/5/2crBAhVogQK0SIFSLEChFihQixQoRYIWL5pQgPHf/XpD2ZtBbu42SFCLFChFghQqwQIVaIECtEiBUixAoR29/Iv/MNA7cuAEx624G1cIuTFSLEChFihQixQoRYIUKsECFWiMh+8/muWeCkh7Wt5ee8ytzYyQoRYoUIsUKEWCFCrBAhVogQK0SIFSKWX4pYMYAuDdyPY9bQfcpazqzjzM95yueZwMkKEWKFCLFChFghQqwQIVaIECtEiBUill+KqF1o2GHSnkxayxkr1rvqYsWz987JChFihQixQoRYIUKsECFWiBArRIgVIrZ/fcaqNwiUTBrKT3rzwivuyyP/7jpZIUKsECFWiBArRIgVIsQKEWKFiO1z1kl2zXMnzY0nrWWSwr44WSFCrBAhVogQK0SIFSLEChFihQixQsSXvhTxig9irzBpLZM8e1+crBAhVogQK0SIFSLEChFihQixQoRYIWL7pYhJT+RPWssZpTdbfMVvXjiO25/pVy5WOFkhQqwQIVaIECtEiBUixAoRYoUIsULE9ksRz37a/r1Ja1ll12fadaFhxeWKV7mg4WSFCLFChFghQqwQIVaIECtEiBUiRr6Rv/SQ9SqvNh9dZcV6a5/5M05WiBArRIgVIsQKEWKFCLFChFghQqwQMfJSxBmTLhHcWsuqofyuzzzpofxJa3k2JytEiBUixAoRYoUIsUKEWCFCrBAhVojYfili51P7j/zK+NUmXZyovVmhtt6f5WSFCLFChFghQqwQIVaIECtEiBUivvQ3n++y6jOvmCfuWsvObxuf9HfqkTNfJytEiBUixAoRYoUIsUKEWCFCrBAhVogY+Ub+XQ8Tr/pzSpcVanbtbWHfnKwQIVaIECtEiBUixAoRYoUIsUKEWCFi5KWISW8z2LGOsya9EWGF2kWQZ1+ucLJChFghQqwQIVaIECtEiBUixAoRYoWI7ZciJj2RP+mywqR9qfn29va/v/4qe+tkhQixQoRYIUKsECFWiBArRIgVIi73zKAul8trDKxgsOv1+uHg3skKEWKFCLFChFghQqwQIVaIECtEiBUi7n34/J/jOP5+xEKA4ziO44/PfuGuG0zA8/hnMESIFSLEChFihQixQoRYIUKsECFWiBArRPwLUNQF44aEdWwAAAAASUVORK5CYII=)\n",
        "![index3.png](data:image/png;base64,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)"
      ]
    },
    {
      "cell_type": "markdown",
      "metadata": {
        "id": "hrKnkVsr61N-"
      },
      "source": [
        "## Μέρος 2\n",
        "\n",
        "Στο δεύτερο μέρος της εργασίας θα υλοποιήσετε τον αλγόριθμο Α* για την εύρεση συντομότερων μονοπατιών μεταξύ δυο κόμβων για τους λαβυρίνθους που παράγονται από τον κώδικα του πρώτου μέρους. Θα κατασκευάσετε και διάφορες συναρτήσεις κόστους τόσο για την μέτρηση των πραγματικών αποστάσεων όσο και για την εκτίμηση των αποστάσεων από έναν κόμβο στον κόμβο στόχο (heuristic).\n",
        "\n",
        "Η γενική μορφή της συνάρτησης κόστους στον αλγόριθμο Α* είναι:\n",
        "$$f(n)=g(n)+h(n)$$\n",
        "Παραπάνω, η συνάρτηση $g(n)$ δίνει την πραγματική απόσταση από το σημείο εκκίνησης μέχρι τον κόμβο $n$, και η συνάρτηση $h(n)$ αποτελεί μια ευριστική της απόστασης από τον κόμβο $n$ μέχρι τον στόχο. Σας ζητείται να πειραματιστείτε με τις εξής επιλογές για τις δύο συναρτήσεις:\n",
        "* $g(n)=0$ και $h(n)=\\{\\text{manhattan}(n),\\text{euclidean}(n)\\}$. Ποιος αλγόριθμος αναζήτησης προκύπτει; Μπορεί να βρει πάντα το βέλτιστο μονοπάτι;\n",
        "* $g(n)=1$ και $h(n)=0$. Ποιος αλγόριθμος αναζήτησης προκύπτει; Μπορεί να βρει πάντα το βέλτιστο μονοπάτι;\n",
        "* $g(n)=1$ και $h(n)=\\{\\text{manhattan}(n),\\text{euclidean}(n)\\}$. Ποιος αλγόριθμος αναζήτησης προκύπτει; Μπορεί να βρει πάντα το βέλτιστο μονοπάτι;\n",
        "\n",
        "Μπορείτε να προτείνετε και άλλες ευριστικές συναρτήσεις εκτός από τις αποστάσεις manhattan και euclidean;"
      ]
    },
    {
      "cell_type": "markdown",
      "metadata": {
        "id": "HBVzpYPF9WC_"
      },
      "source": [
        "## Μέρος 3\n",
        "\n",
        "Στο τρίτο μέρος καλείστε να συγκρίνετε την απόδοση των αλγορίθμων που υλοποιήσατε στο πρώτο μέρος, με βάση την πολυπλοκότητά τους και το κατά πόσο μπορούν να βρούν το βέλτιστο μονοπάτι. \n",
        " \n",
        "Αρχικά, θα πρέπει να κατασκευάσετε πλήθος λαβυρίνθων με μέγεθος $N\\in[10,11, \\ldots,50]$ (τουλάχιστον 10 λαβυρίνθους για κάθε Ν).\n",
        "\n",
        "Έπειτα, για τους τρεις αλγορίθμους που υλοποιήσατε στο δεύτερο μέρος, καθώς και για ό,τι επιπλέον υλοποιήσατε (πχ επιπλέον ευριστικές), ζητείται να συλλέξετε τα εξής χαρακτηριστικά:\n",
        " * το μήκος του ελάχιστου μονοπατιού που εξάγει ο εκάστοτε αλγόριθμος.\n",
        " * το πλήθος των επεκτεταμένων κόμβων (expanded nodes) του κάθε αλγορίθμου, που αποτελεί μέτρο της πολυπλοκότητάς του.\n",
        " \n",
        "Για να σας είναι εύκολο να εξάγετε συμπεράσματα από τις παραπάνω παραμετροποιήσεις, ζητείται να κατασκευάσετε δύο γραφικές παραστάσεις:\n",
        " * το μήκος του ελάχιστου μονοπατιού συναρτήσει του μεγέθους του χάρτη\n",
        " * το πλήθος των expanded nodes συναρτήσει του μεγέθους του χάρτη\n",
        "\n",
        "Ένα παράδειγμα φαίνεται παρακάτω:\n",
        "\n",
        "![image.png](data:image/png;base64,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)\n",
        "\n",
        " Σας ζητείται σχολιάσετε τιςγραφικές παραστάσεις που θα φτιάξετε, και συγκεκριμένα το πώς μεταβάλλεται η συμπεριφορά των αλγορίθμων συναρτήσει του $N$.\n",
        " \n",
        " Σημειώνουμε τα παρακάτω:\n",
        " \n",
        " * Σε όλα τα παραπάνω πειράματα μπορείτε να λάβετε σαν σημείο εκκίνησης το $(1,1)$ και σαν σημείο τερματισμού $(N-2,N-2)$. Εναλλακτικά, μπορείτε να πειραματιστείτε με τυχαία σημεία εκκινησης και τερματισμού.\n",
        " * Αν και οι χάρτες παράγονται τυχαία, η εκτέλεση αλγορίθμων σε διαφορετικούς χάρτες παράγει μη συγκρίσιμα αποτελέσματα, οπότε οι αλγόριθμοι πρέπει να τρέξουν στους ίδιους χάρτες.\n",
        " * Για λόγους ευκολίας σύγκρισης, προτείνεται να τοποθετήσετε πολλαπλές γραφικές παραστάσεις στο ίδιο σύστημα αξόνων, όπου αυτό είναι εφικτό.\n",
        "\n",
        "Για το πως κατασκευάζουμε γραφικές παραστάσεις μέσω python, μπορείτε να βρείτε παραδείγματα στον κώδικα που δίνεται, καθώς και (για το ζητούμενο της άσκησης) [εδώ](https://www.kite.com/python/answers/how-to-make-multiple-plots-on-the-same-figure-in-matplotlib-in-python) .\n",
        "\n",
        "## **Visualization**\n",
        "Παράλληλα με τα παραπάνω σας δίνεται έτοιμη και μια κλάση η όποια κατασκευάζει ένα animation της αναζήτησης το όποιο υλοποιεί κάθε αλγόριθμος. Για την χρήση της κλάσης αυτής πρέπει να κάνετε τα εξής 4 βήματα:\n",
        "\n",
        "1.\tΔημιουργία ενός instance της κλάσης εκτελώντας την παρακάτω εντολή: `visualization(Start, Goal)`. Η εντολή αυτή δημιουργεί ένα αντικείμενο τύπου visualization. \n",
        "2.\tΤο βίντεο που παράγεται κάθε φορά ουσιαστικά αποτελείται από stacked frames. Συνεπώς σε κάθε βήμα εκτέλεσης όπου δηλαδή θέλουμε να προσθέσουμε ένα frame στο βίντεο πρέπει να καλέσουμε την μέθοδο της κλάσης: `draw_step(grid, frontier, expanded_nodes)` όπου το πρώτο όρισμα είναι ένας χάρτης (τύπου Maze) το δεύτερο μια λίστα με το μέτωπο της αναζήτηση ενώ το τρίτο μια λίστα με τους κόμβους οι όποιοι έχουν ήδη επεκταθεί από τον αλγόριθμο. \n",
        "3.\t(Προαιρετικό) Αν θέλουμε να προσθέσουμε στο animation και το βέλτιστο μονοπάτι που βρήκε ο αλγόριθμός μας μπορούμε να καλέσουμε την μέθοδο add_path(path) η οποία δέχεται σαν όρισμα μια λίστα με όλους τους κόμβους που ανήκουν στο βέλτιστο μονοπάτι (συμπεριλαμβανομένων και των κόμβων αρχής και τέλους).\n",
        "4.\tΤέλος καλούμε την συνάρτηση `show_gif()` η όποια εμφανίζει το animation. Επίσης μπορούμε και να αποθηκεύσουμε το gif καλώντας την συνάρτηση `save_gif (filename)` (το αρχείο πρέπει να έχει κατάληξη .gif) καθώς επίσης μπορούμε να εμφανίσουμε μόνο το τελευταίο frame καλώντας την συνάρτηση `show_last_frame()` στο όποιο (αν έχουν γίνει όλα όπως παραπάνω) θα φαίνονται όλοι οι κόμβοι οι οποίοι έχουν επεκταθεί από τον αλγόριθμο, το τελευταίο μέτωπο και (προαιρετικά) και το βέλτιστο μονοπάτι.\n",
        "\n",
        "Μπορείτε να καταλήξετε στα ίδια συμπεράσματα όσον αφορά την πολυπλοκότητα των αλγορίθμων παρατηρώντας το visualization; \n"
      ]
    },
    {
      "cell_type": "markdown",
      "metadata": {
        "id": "nqTnPBPM_RrH"
      },
      "source": [
        "## Μέρος 4\n",
        "\n",
        "Στο τέταρτο και τελευταίο μέρος της εργασίας σας δίνεται η δυνατότητα να κατασκευάσετε λαβυρίνθους με το χέρι. \n",
        "\n",
        "Καλείστε λοιπόν να **κατασκευάσετε** και να **σχολιάσετε** τους παρακάτω 5 λαβυρίνθους:\n",
        "\n",
        "\n",
        "*   **Λαβύρινθος 1**: Ο Hill-climbing δεν βρίσκει μονοπάτι από την αφετηρία στο στόχο.\n",
        "*   **Λαβύρινθος 2**: Ο Α* αργεί όσο το δυνατόν περισσότερο να βρει το βέλτιστο μονοπάτι ανεξαρτήτως της μετρικής απόστασης που χρησιμοποιείται ως ευριστική. Σε τι είδους μονοπάτι η επιλογή διαφορετικής μετρικής απόστασης (Ευκλίδεια/Manhattan) ως ευριστικής οδηγεί τον Α* να βρίσκει το μονοπάτι πιο γρήγορα;\n",
        "*   **Λαβύρινθος 3**: Ο αλγόριθμος άπληστης αναζήτησης πρώτα στο καλύτερο (greedy best first) αργεί σημαντικά περισσότερο από τον Α* για να καταλήξει στο στόχο. Σε ποια περίπτωση οι δύο αλγόριθμοι θα συμπεριφέρονταν με τον ίδιο τρόπο;\n",
        "*   **Λαβύρινθος 4**: Ο Α* καταφέρνει να βρει το μονοπάτι προς το στόχο σημαντικά πιο γρήγορα από τον Dijkstra. Ο χώρος πρέπει αναγκαστικά να περιέχει εμπόδια. Πώς επηρεάζει το μέγεθος/είδος του εμποδίου τον αριθμό βημάτων που χρειάζεται ο Dijsktra και πώς τον αριθμό βημάτων του Α*;\n",
        "*   **Λαβύρινθος 5**: Ο Α* και ο Dijkstra φτάνουν στο στόχο πραγματοποιώντας τον ίδιο ακριβώς αριθμό βημάτων για την προσέγγιση της βέλτιστης διαδρομής. Σημείωση: **αγνοήστε** την τετριμμένη περίπτωση όπου ο Α* συμπεριφέρεται όπως ο Dijkstra (h(n)=0). \n",
        "\n",
        "\n",
        "Ο Α* σε όλες τις περιπτώσεις πραγματοποιεί τη βέλτιστη δυνατή αναζήτηση.   \n",
        "\n",
        "\n",
        "Για κάθε λαβύρινθο που σχηματίζετε, δώστε μια σύντομη εξήγηση για την επιλογή σας.  \n",
        "\n",
        "**ΠΡΟΣΟΧΗ:** το output των κελιών που σχηματίζετε διατηρείται για περιορισμένο χρονικό διάστημα στο notebook, γι αυτό καλείστε να αποθηκεύσετε τη φωτογραφία (το πραγματοποιεί η συνάρτηση draw()) και να τη μεταφέρετε στο ανάλογο markdown ώστε να μπορέσουμε να την αξιολογήσουμε.\n",
        "\n",
        "\n",
        "Στη συνέχεια, καλείστε να τρέξετε τους αλγορίθμους pathfinding πάνω στους χάρτες που σχηματίσατε. Για το σκοπό αυτό, μετά την εκτέλεση της draw() καλείτε τη συνάρτηση draw_grid() που μετατρέπει την εικόνα που σχηματίσατε σε χάρτη πάνω στον οποίο μπορούν να τρέξουν οι αλγόριθμοι με χρήση της συνάρτησης pathfinder(). Χρειάζεται να επιλέξετε κατάλληλα τα ορίσματα της pathfinder ώστε να καλέσετε το σωστό αλγόριθμο αναζήτησης σε κάθε ερώτημα. Εκτελέστε τα αντίστοιχα κελιά με τον κώδικα που σας δίνεται και παρουσιάστε την έξοδο αυτών. Φυσικά, εάν ένα ερώτημα περιλαμβάνει την εκτέλεση περισσότερων του ενός αλγορίθμου, αντιγράφετε τα αντίστοιχα κελιά για κάθε αλγόριθμο και τοποθετείτε τα σωστά ορίσματα. Τέλος, η show_gif() σας παρουσιάζει το animation, όπως και στο Μέρος 3.\n",
        "**Παρατήρηση:** εφόσον δε σας δίνεται/δεν έχετε υλοποιήσει τον Hill climbing, δε σας ζητείται να τον τρέξετε στο χάρτη που θα σχηματίσετε."
      ]
    },
    {
      "cell_type": "markdown",
      "metadata": {
        "id": "k4B8EEBhClt2"
      },
      "source": [
        "# Κώδικας visualization\n"
      ]
    },
    {
      "cell_type": "code",
      "metadata": {
        "id": "fH9jHuU-Chps"
      },
      "source": [
        "import numpy as np\n",
        "import matplotlib.pyplot as plt\n",
        "import matplotlib.animation as animation\n",
        "from matplotlib.animation import PillowWriter\n",
        "from IPython.display import HTML\n",
        "\n",
        "class visualization:\n",
        "    def __init__(self, S, F):\n",
        "        '''\n",
        "          Η μέθοδος αυτή αρχικοποιεί ένα αντικείμενο τύπου visualization.\n",
        "          Είσοδος: \n",
        "          -> S: το σημείο εκκίνσης της αναζήτησης\n",
        "          -> F: το σημείο τερματισμού\n",
        "        '''\n",
        "        self.S = S\n",
        "        self.F = F\n",
        "        self.images = []\n",
        "    \n",
        "    def draw_step(self, grid, frontier, expanded_nodes):\n",
        "        '''\n",
        "          Η συνάρτηση αυτή καλείται για να σχεδιαστεί ένα frame στο animation (πρακτικά έπειτα από την επέκταση κάθε κόμβου)\n",
        "          Είσοδος: \n",
        "          -> grid: Ένα χάρτης τύπου grid\n",
        "          -> frontier: Μια λίστα με τους κόμβους που ανήκουν στο μέτωπο της αναζήτησης\n",
        "          -> expanded_nodes: Μια λίστα με τους κόμβους που έχουν ήδη επεκταθεί\n",
        "          Επιστρέφει: None\n",
        "          Η συνάρτηση αυτή πρέπει να καλεστεί τουλάχιστον μια φορά για να μπορέσει να σχεδιαστει ένα animation (πρεπεί το animation να έχει τουλάχιστον ένα frame).\n",
        "        '''\n",
        "        image = np.zeros((grid.N, grid.N, 3), dtype=int)\n",
        "        image[~grid.grid] = [0, 0, 0]\n",
        "        image[grid.grid] = [255, 255, 255]\n",
        "        # Use this to treat 1/True as obstacles\n",
        "        # image[grid.grid] = [0, 0, 0]\n",
        "        # image[~grid.grid] = [255, 255, 255]\n",
        "        \n",
        "        for node in expanded_nodes:\n",
        "            image[node] = [0, 0, 128]\n",
        "\n",
        "        for node in frontier:\n",
        "            image[node] = [0, 225, 0]\n",
        "\n",
        "        image[self.S] = [50, 168, 64]\n",
        "        image[self.F] = [168, 50, 50]\n",
        "        self.images.append(image)\n",
        "    \n",
        "    def add_path(self, path):\n",
        "        '''\n",
        "          Η συνάρτηση αυτή προσθέτει στο τελευταίο frame το βέλτιστο μονοπάτι.\n",
        "          Είσοδος:\n",
        "          -> path: Μια λίστα η όποια περιέχει το βέλτιστο μονοπάτι (η οποία πρέπει να περιέχει και τον κόμβο αρχή και τον κόμβο στόχο)\n",
        "          Έξοδος: None\n",
        "        '''\n",
        "        for n in path[1:-1]:\n",
        "            image = np.copy(self.images[-1])\n",
        "            image[n] = [66, 221, 245]\n",
        "            self.images.append(image)\n",
        "        for _ in range (100):\n",
        "            self.images.append(image)\n",
        "        \n",
        "    def create_gif(self, fps = 30, repeat_delay = 2000):\n",
        "        if len(self.images) == 0:\n",
        "            raise EmptyStackOfImages(\"Error! You have to call 'draw_step' at  first.\")\n",
        "        fig = plt.figure()\n",
        "        plt.axis('off')\n",
        "        ims = []\n",
        "        for img in self.images:\n",
        "            img = plt.imshow(img)\n",
        "            ims.append([img])\n",
        "        ani = animation.ArtistAnimation(fig, ims, interval=1000//fps, blit=True, repeat_delay= repeat_delay)\n",
        "        plt.close(fig)\n",
        "        return ani\n",
        "        \n",
        "    def save_gif(self, filename, fps = 30):\n",
        "        '''\n",
        "            Η συνάρτηση αυτή ξαναδημιουργεί και αποθηκεύει το animation σε ένα αρχείο.\n",
        "            Είσοδος:\n",
        "            -> Το όνομα του αρχείου με κατάληξη .gif\n",
        "            Έξοδος: (None)\n",
        "        '''\n",
        "        ani = self.create_gif(fps)\n",
        "        writer = PillowWriter(fps= fps)\n",
        "        ani.save(filename, writer=writer)\n",
        "\n",
        "    def show_gif(self, fps= 30, repeat_delay = 2000):\n",
        "        '''\n",
        "            Η συνάρτηση αυτή εμφανίζει inline το animation.\n",
        "            Είσοδος:\n",
        "            -> fps: τα frames per second\n",
        "            Έξοδος: Το αντικείμενο που παίζει το animation\n",
        "            Exceptions: EmptyStackOfImages αν το animation δεν έχει ούτε ένα frame, δηλαδή αν η draw_step δεν έχει καλεστεί ποτέ.\n",
        "        '''\n",
        "        ani = self.create_gif(fps, repeat_delay)\n",
        "        # return HTML(ani.to_html5_video())\n",
        "        return HTML(ani.to_jshtml())\n",
        "\n",
        "    def show_last_frame(self):\n",
        "        '''\n",
        "            Η μέθοδος αυτή εμφανίζει inline το τελευταίο frame που έχει δημιουργήθει.\n",
        "            Είσοδος:\n",
        "            Έξοδος: Το αντικείμενο που εμφανίζει την εικόνα.\n",
        "            Exceptions: EmptyStackOfImages αν το animation δεν έχει ούτε ένα frame, δηλαδή αν η draw_step δεν έχει καλεστεί ποτέ.\n",
        "        '''\n",
        "        if len(self.images) == 0:\n",
        "            raise EmptyStackOfImages(\"Error! You have to call 'draw_step' at  first.\")\n",
        "        else:\n",
        "            plt.imshow(self.images[-1])\n",
        "\n",
        "\n",
        "class EmptyStackOfImages(Exception):\n",
        "    pass"
      ],
      "execution_count": null,
      "outputs": []
    },
    {
      "cell_type": "markdown",
      "metadata": {
        "id": "_HWZO0-MAHKz"
      },
      "source": [
        "# Λύση\n",
        "\n"
      ]
    },
    {
      "cell_type": "markdown",
      "metadata": {
        "id": "MTiD83XMoM5u"
      },
      "source": [
        "## Μέρος 1\n",
        "\n",
        "Στο παρακάτω κελί κώδικα σας δίνεται ο σκελετός της κλάσης ```Maze```, όπου και θα υλοποιήσετε τον αλγόριθμο κατασκευής λαβυρίνθων. Για να λειτουργεί σωστά η οπτικοποίηση, ο λαβύριθνος αναπαριστάται ως ένας $N\\times{N}$ boolean πίνακας στο attribute ```grid``` της κλάσης. Η τιμή ```False``` σε ένα κελί του πίνακα αναπαριστά την ύπαρξη εμποδίου στο σημείο αυτό, ενώ η τιμή ```True``` ελεύθερο κελί.\n",
        "\n",
        "\n",
        "Μπορείτε να τροποποιήσετε τον δοσμένο κώδικα όπως θέλετε."
      ]
    },
    {
      "cell_type": "markdown",
      "metadata": {
        "id": "pHUH8xhNwzUI"
      },
      "source": [
        "Επιλέγουμε να υλοποιήσουμε τον αλγόριθμο Randomized Prim, στον οποίο προσθέτουμε μία τροποιποίηση προκειμένου να δημιουργούνται δύο μονοπάτια από την αφετηρία S προς τον προορισμό F. Ακολουθεί ο κώδικας της υλοποίησης μας, ενώ σχολιασμός του αλγορίθμου και της τροποποίησής μας παρατίθεται μετά τον κώδικα, στο αντίστοιχο κελί."
      ]
    },
    {
      "cell_type": "code",
      "metadata": {
        "id": "t-BBg2eWAFN4"
      },
      "source": [
        "%matplotlib inline\n",
        "import numpy as np\n",
        "from queue import LifoQueue\n",
        "import  random \n",
        "import matplotlib.pyplot as plt\n",
        "\n",
        "\n",
        "class Maze:\n",
        "    def __init__(self, N, S, F):\n",
        "\n",
        "      \"\"\"\n",
        "      N: integer that indicates the size of the NxN grid of the maze\n",
        "      S: pair of integers that indicates the coordinates of the starting point (S)\n",
        "      F: pair of integers that indicates the coordinates of the finish point (F)\n",
        "      You can add any other parameters you want to customize maze creation (e.g. variables that\n",
        "      control the creation of additional paths)\n",
        "      \"\"\"\n",
        "\n",
        "      assert N > 2\n",
        "\n",
        "      ## Make sure start and end are within the grid\n",
        "\n",
        "      assert S[0] < N-1\n",
        "      assert S[1] < N-1\n",
        "      assert F[0] < N-1\n",
        "      assert F[1] < N-1\n",
        "\n",
        "      assert S[0] > 0\n",
        "      assert S[1] > 0\n",
        "      assert F[0] > 0\n",
        "      assert F[1] > 0\n",
        "\n",
        "      # Add here any additional constraints your implementation may have\n",
        "\n",
        "      self.N = N\n",
        "      self.S = S\n",
        "      self.F = F\n",
        "\n",
        "      # Grid initialized with obstacles (array of 0/False)\n",
        "      # 1/True indicates available cells\n",
        "      self.grid = np.zeros((N, N), dtype=bool)\n",
        "      \n",
        "      \n",
        "      ## YOUR CODE HERE\n",
        "      self.grid[S[0]][S[1]]=True                                   # mark start as part of maze\n",
        "      self.grid[F[0]][F[1]]=True                                   # mark end as part of maze\n",
        "      self.wall_list=set()\n",
        "      self.create_maze()\n",
        "      \n",
        "    def walls(self,picked):                                        # returns all neighboors of picked cell that are walls\n",
        "      w=[]\n",
        "      if (picked[0]>0 and not self.grid[picked[0]-1][picked[1]]):\n",
        "        w.append((picked[0]-1,picked[1]))\n",
        "      if (picked[0]<self.N-1 and not self.grid[picked[0]+1][picked[1]]):\n",
        "        w.append((picked[0]+1,picked[1]))\n",
        "      if (picked[1]<self.N-1 and not self.grid[picked[0]][picked[1]+1]):\n",
        "        w.append((picked[0],picked[1]+1))\n",
        "      if (picked[1]>0 and not self.grid[picked[0]][picked[1]-1]):\n",
        "        w.append((picked[0],picked[1]-1))\n",
        "      return w\n",
        "\n",
        "    def not_walls(self,picked):                                    # returns all neighboors of picked cell that are not walls\n",
        "      not_w=[]\n",
        "      if (picked[0]>0 and self.grid[picked[0]-1][picked[1]]):\n",
        "        not_w.append((picked[0]-1,picked[1]))\n",
        "      if (picked[0]<self.N-1 and self.grid[picked[0]+1][picked[1]]):\n",
        "        not_w.append((picked[0]+1,picked[1]))\n",
        "      if (picked[1]<self.N-1 and self.grid[picked[0]][picked[1]+1]):\n",
        "        not_w.append((picked[0],picked[1]+1))\n",
        "      if (picked[1]>0 and self.grid[picked[0]][picked[1]-1]):\n",
        "        not_w.append((picked[0],picked[1]-1))\n",
        "      return not_w\n",
        "\n",
        "      \n",
        "    def create_maze(self):\n",
        "      picked=self.S\n",
        "      self.grid[picked[0]][picked[1]]=True                       # mark cell as part of maze\n",
        "      cell_walls=self.walls(picked)                              # get all walls of set \n",
        "      for i in cell_walls:                                       # add all walls of the cell to the list except from when they are the surrounding borders of the maze\n",
        "        if (i[0] == 0 or i[1] == 0 or i[0] == self.N-1 or i[1] == self.N-1): # wall is a border\n",
        "          continue                                       \n",
        "        self.wall_list.add(i)\n",
        "      \n",
        "      while len(self.wall_list)!=0:\n",
        "        picked_wall=self.wall_list.pop()                         # pick a random wall from the list\n",
        "        neighboor_not_walls=self.not_walls(picked_wall)          # get all neighboors of this cell that are not walls\n",
        "        \n",
        "        if (len(neighboor_not_walls)==1):                        # if only one cell that the wall divides is visited (not wall)     \n",
        "\n",
        "          self.grid[picked_wall[0]][picked_wall[1]]=True         # make the wall a passage \n",
        "          wall_neib_walls=self.walls(picked_wall)                # get all neighboors of cell\n",
        "          for i in wall_neib_walls:                              # add them to list of walls\n",
        "            if (i[0] == 0 or i[1] == 0 or i[0] == self.N-1 or i[1] == self.N-1): # wall is a border\n",
        "              continue  \n",
        "            self.wall_list.add(i)\n",
        "          \n",
        "\n",
        "      # Demolish walls around the finish node (F) to create at least 2 paths from the start (the finish node is surrounded by walls)\n",
        "      finish = self.F    \n",
        "      temp_finish_walls=self.walls(finish)                        # find the walls around F\n",
        "      finish_walls = []\n",
        "      for i in temp_finish_walls:                                 # add them to list of walls (when they are NOT borders)\n",
        "        if (i[0] == 0 or i[1] == 0 or i[0] == self.N-1 or i[1] == self.N-1):                      # wall is a border\n",
        "          continue  \n",
        "        finish_walls.append(i)\n",
        "\n",
        "      # Choose how many walls will be demolished around F (1 or 2 walls)\n",
        "      if ( self.F[0] == self.S[0] and (self.F[1] == self.S[1]+1 or self.F[1] == self.S[1]-1) ):   # F is just above or below from the Start node (S)\n",
        "        num_required_demolishes = [1]\n",
        "      elif ( self.F[1] == self.S[1] and (self.F[0] == self.S[0]+1 or self.F[0] == self.S[0]-1) ): # F is just right or left from the Start node (S)\n",
        "        num_required_demolishes = [1]\n",
        "      else:                                                                                       # else 2 walls are going to be demolished\n",
        "        num_required_demolishes = [1,2]\n",
        "\n",
        "      # Choose a random wall around F (from list finish walls) that will now be a passage (it will be demolished)\n",
        "      y = random.randint(0,len(finish_walls)-1)                               \n",
        "\n",
        "      for i in num_required_demolishes:\n",
        "        if (len(finish_walls) > 0):                                 # for safety\n",
        "          wall_to_demolish = finish_walls[y]\n",
        "          while (self.grid[wall_to_demolish[0]][wall_to_demolish[1]] == True):                    # if i have already demolished that wall pick another demolishable neighbour wall\n",
        "            y = random.randint(0,len(finish_walls)-1)\n",
        "            wall_to_demolish = finish_walls[y]\n",
        "          \n",
        "          self.grid[wall_to_demolish[0]][wall_to_demolish[1]]=True  # demolish the wall (make it a passage)\n",
        "          \n",
        "          # make sure that the demolished wall actually connects F to the maze and is not a dead end.\n",
        "          h = wall_to_demolish                                      # h = the wall we made a passage\n",
        "          while (len(self.not_walls(h)) < 2):                       # while it is a dead end (the only not_wall neighbour is the one leading to F), we create a path to the maze.\n",
        "             demolish_helper = self.walls(h)\n",
        "             extra_dem_wall = demolish_helper.pop()                 # choose from h neighbour walls which one to demolish\n",
        "             while (extra_dem_wall[0] == 0 or extra_dem_wall[1] == 0 or extra_dem_wall[0] == self.N-1 or extra_dem_wall[1] == self.N-1): # while wall is a border choose another wall\n",
        "                extra_dem_wall = demolish_helper.pop()\n",
        "             self.grid[extra_dem_wall[0]][extra_dem_wall[1]]=True   # demolish the chosen neighbour\n",
        "             h = extra_dem_wall                                     # make h this demolished neighbour to check if now we have a dead end\n",
        "      \n",
        "\n",
        "\n",
        "    def draw_map(self, path=None):\n",
        "        \"\"\" Draws the maze as an image. Considers grid values of 0/False to represent obstacles and\n",
        "        values of 1/True to represent empty cells, but this can be customized. Obstacles are painted\n",
        "        black and empty cells are painted white. Starting point is painted green and finish point red.\n",
        "        Optionally accepts as a parameter a path within the maze which is painted blue. \n",
        "        \"\"\"\n",
        "        image = np.zeros((self.N, self.N, 3), dtype=int)\n",
        "        image[~self.grid] = [0, 0, 0]\n",
        "        image[self.grid] = [255, 255, 255]\n",
        "\n",
        "        # Uncomment the next 2 lines of code to treat 1/True as obstacles (and 0/False as free maze cells)\n",
        "        # image[self.grid] = [0, 0, 0]\n",
        "        # image[~self.grid] = [255, 255, 255]\n",
        "\n",
        "        image[self.S] = [50, 168, 64]\n",
        "        image[self.F] = [168, 50, 50]\n",
        "        if path:\n",
        "            for n in path[1:-1]:\n",
        "                image[n] = [66, 221, 245]\n",
        "\n",
        "        plt.imshow(image)\n",
        "        plt.xticks([])\n",
        "        plt.yticks([])\n",
        "        plt.show()"
      ],
      "execution_count": null,
      "outputs": []
    },
    {
      "cell_type": "markdown",
      "metadata": {
        "id": "mfGf9hhdno5p"
      },
      "source": [
        "Παρουσιάζουμε μερικά παραδείγματα λαβυρίνθων:"
      ]
    },
    {
      "cell_type": "code",
      "metadata": {
        "colab": {
          "base_uri": "https://localhost:8080/",
          "height": 1000
        },
        "id": "9LK61zuVBCi2",
        "outputId": "b0a89597-b0e7-4b15-ca5e-1909484fd7bc"
      },
      "source": [
        "for N, S, F in (7, (1, 1), (5, 4)), (11, (6, 9), (7, 9)), (15, (1, 3), (7, 9)), (25, (3, 7), (23, 19)), (51, (9, 3), (41, 41)):\n",
        "    map = Maze(N, S, F)\n",
        "    map.draw_map()"
      ],
      "execution_count": null,
      "outputs": [
        {
          "output_type": "display_data",
          "data": {
            "image/png": "[encoded data removed]",
            "text/plain": [
              "<Figure size 432x288 with 1 Axes>"
            ]
          },
          "metadata": {}
        },
        {
          "output_type": "display_data",
          "data": {
            "image/png": "[encoded data removed]",
            "text/plain": [
              "<Figure size 432x288 with 1 Axes>"
            ]
          },
          "metadata": {}
        },
        {
          "output_type": "display_data",
          "data": {
            "image/png": "[encoded data removed]",
            "text/plain": [
              "<Figure size 432x288 with 1 Axes>"
            ]
          },
          "metadata": {}
        },
        {
          "output_type": "display_data",
          "data": {
            "image/png": "[encoded data removed]",
            "text/plain": [
              "<Figure size 432x288 with 1 Axes>"
            ]
          },
          "metadata": {}
        },
        {
          "output_type": "display_data",
          "data": {
            "image/png": "[encoded data removed]",
            "text/plain": [
              "<Figure size 432x288 with 1 Axes>"
            ]
          },
          "metadata": {}
        }
      ]
    },
    {
      "cell_type": "markdown",
      "metadata": {
        "id": "UKhJ8VJDn4ra"
      },
      "source": [
        "### Σχολιασμός\n"
      ]
    },
    {
      "cell_type": "markdown",
      "metadata": {
        "id": "14aFRS3mrmu_"
      },
      "source": [
        "Για την δημιουργία λαβυρίνθου επιλέξαμε να χρησιμοποιήσουμε τον αλγόριθμο **Randomized Prim**. Ο αλγόριθμος αυτός συνοπτικά δουλεύει ως εξής:\n",
        "\n",
        "\n",
        "*   Ξεκινά με ένα grid (πίνακα ΝxN) στο οποίο όλα τα κελιά είναι αρχικοποιημένα ως τοίχοι. Αρχικοποιεί επίσης μια κενή λίστα από τοίχους.\n",
        "*   Επιλέγει ένα οποιοδήποτε cell, το οποίο θέτει ως μέρος του λαβυρίνθου και προσθέτει τους γείτονές του στην λίστα των τοίχων.\n",
        "*   Όσο η λίστα από τοίχους δεν είναι κενή:\n",
        "    * Επιλέγει έναν τυχαίο τοίχο από την λίστα και αν αυτό έχει **μόνο έναν** γείτονα ο οποίος δεν είναι τοίχος:\n",
        "      * Θέτει τον επιλεγμένο τοίχο ως μέρος του λαβυρίνθου.\n",
        "      * Προσθέτει τους γειτονικούς τοίχους του νέου πλέον κελιού του λαβυρίνθου στην λίστα των τοίχων.\n",
        "    * Αφαιρεί τον επιλεγμένο τοίχο (πλέον μέρος του λαβυρίνθου) από την λίστα των τοίχων.\n",
        "\n",
        "Ο παραπάνω αλγόριθμος έχει την ιδιότητα πως δημιουργεί ένα spanning tree, δηλαδή από οποιοδήποτε τμήμα του λαβυρίνθου μπορεί κανείς να φτάσει σε οποιοδήποτε άλλο και δεν υπάρχουν κύκλοι στον λαβύρινθο, τα μονοπάτια δηλαδή από το ένα σημείο του λαβυρίνθου σε οποιοδήποτε άλλο είναι μοναδικά.\n",
        "\n",
        "Σημειώνεται επιπλεόν ότι έχουμε θεωρήσει πως κάθε λαβύρινθος θα περιβάλλεται από τοίχους (θα έχει ένα περίγραμμα τοίχων που θα τον οριοθετεί).\n",
        "\n",
        "Η παραπάνω υλοποίηση βέβαια δεν αρκεί για τα ζητούμενά μας. Συγκεκριμένα, ανακύπτει το εξής ζήτημα:\n",
        "Θέτοντας ως αρχικό κόμβο που επιλέγει ο αλγόριθμος την αφετηρία S του λαβυρινθου που επιθυμούμε να κατασκευάσουμε είναι σίγουρο πως ο κόμβος S θα είναι μέρος του λαβυρίνθου μας. Δεν ισχύει όμως το ίδιο για τον επιθυμητό κόμβο προορισμού F. Για τον κόμβο αυτό επιλέγουμε κατά την αρχικοποίηση να τον θέσουμε ως μέρος του λαβυρίνθου. Καθώς όμως ο αλγόριθμος επιλέγει να σπάσει μόνο τοίχους που έχουν μόνο έναν γείτονα που είναι μέρος του λαβυρίνθου, κανένας τοίχος γειτονικός στο F δεν θα επιλεγεί για να γίνει μέρος του λαβυρίνθου. Ο λόγος γι' αυτό είναι πως αφαιρώντας από την λίστα τοίχων και εξετάζοντας έναν από τους γειτονικούς στον προορισμό τοίχους, έστω w, αυτός θα έχει ως γείτονα τον προορισμό F, καθώς και τον κόμβο εκείνο από τον οποίο ο αλγόριθμος έφτασε στον εξεταζόμενο τοίχο, εκείνον δηλαδή μέσω του οποίου, όντας γείτονάς του ο τοίχος w, προστέθηκε στην λίστα τοίχων. Έτσι, καθώς και οι δύο προαναφερθέντες γείτοντες του w δεν είναι τοίχοι, ο w θα παραμένει πάντα τοίχος. Επομένως, όταν ο αλγόριθμός μας ολοκληρώνεται, ο προορισμός F θα έχει πάντα γύρω του τέσσερις τοίχους. \n",
        "Κάτι τέτοιο προφανώς δεν είναι αποδεκτό, καθώς επιθυμούμε να υπάρχουν στον λαβύρινθό μας δύο μονοπάτια από την αφετηρία S μέχρι τον προορισμό F. Έτσι, πραγματοποιούμε την εξής τροποποίηση: \n",
        "\n",
        "Μόλις τελειώνει η δημιουργία του λαβυρίνθου σπάμε κάποιους τοίχους γύρω από τον προορισμό F για να τον ενώσουμε με τον λαβύρινθο και να δημιουργηθούν τα ζητούμενα μονοπάτια. Πιο συγκεκριμένα βρίσκουμε τους γειτονικούς τοίχους στον προορισμό F και με βάση σε ποια από τις παρακάτω περιπτώσεις βρισκόμαστε κάθε φορά, επιλέγεται ποιοι από αυτούς θα κατεδαφίστουν, δηλαδή ποιοι τοίχοι θα γίνουν περάσματα:\n",
        "*   Η αφετηρία S και ο προορισμός F **δεν** βρίσκονται ακριβώς δίπλα:\n",
        "\n",
        "    Σε αυτή την περίπτωση κατεδαφίζονται δύο γειτονικοί στον F τοίχοι, διότι ζητείται να υπάρχουν πάντα τουλάχιστον 2 μόνοπάτια από τον S πρός τον F. Λαμβάνοντας, λοιπόν, υπόψιν ότι ο λαβύρινθος που έχει κατασκευαστεί έχει περάσματα που δημιουργούν ένα spanning tree, αν κατεδαφιστεί ένας γειτονικός τοίχος του F και ο προορισμός ενωθεί με έναν κόμβο περάσματα του λαβυρίνθου, έστω u, έχει εξασφαλιστεί ότι θα έχουμε σίγουρα 1 μονοπάτι από τον S πρός τον F ( (S,F)=(S,u)+(u,F), δηλαδή μονοπάτι από S ως τον u + μονοπάτι που δημιουργήσαμε σπάζοντας τοίχο από τον u προς τον F). Ωστόσο επειδή ζητείται να υπάρχουν τουλάχιστον 2 μονοπάτια κατεδαφίζεται και ένας δεύτερος γειτονικός του F τοίχος, μιας και το 2ο μονοπάτι που θα δημιουργηθεί από τον S προς τον F θα είναι σίγουρα διαφορετικό από το 1ο (υπάρχει τουλάχιστον 1 διαφορετικός κόμβος στο δεύτερο μονοπάτι, αυτός που δημιουργείται από την 2η κατεδάφιση). Με αυτό τον τρόπο εξασφαλίζεται ότι θα υπάρχουν σίγουρα 2 μονοπάτια από την αφετηρία S προς τον προορισμο F.\n",
        "\n",
        "*   Η αφετηρία S και ο προορισμός F βρίσκονται ακριβώς δίπλα:\n",
        "\n",
        "    Σε αυτήν την περίπτωση ο S είναι γείτονας του F, οπότε υπάρχει ήδη ένα μονοπάτι από τον S προς τον F, για αυτό και σε αυτήν την περίπτωση θα κατεδαφιστεί ένας μόνο τοίχος γείτονας του προορισμού F, ώστε να δημιουργηθεί το 2ο ζητούμενο μονοπάτι.\n",
        "\n",
        "Σε καθεμιά από τις προαναφερθείσες περιπτώσεις, αφού γίνει η κατεδάφιση ενός τοίχου, ελέγχεται αν η κατεδάφιση αυτή έχει όντως ενώσει τον προορισμό F με κάποιο πέρασμα του λαβυρίνθου ή αν έχει δημιουργηθεί κάποιο αδιέξοδο. Αν υπάρχει αδιέξοδο συνεχίζονται διαδοχικές κατεδαφίσεις μέχρι να ενωθεί ο F με ένα πέρασμα του υπάρχοντος λαβυρίνθου. Στην πράξη για να σταματήσουν οι κατεδαφίσεις ελέγχεται αν ο τοίχος που κατεδαφίστηκε έχει όντως 2 γείτονες περάσματα, έναν προς τον προορισμό F μετά τις κατεδαφίσεις και έναν προς τον υπάρχοντα λαβύρινθο.\n",
        "\n",
        "Τέλος, σε όλα τα παραπάνω, ελέγχεται αν ο F βρίσκεται δίπλα στην άκρη του λαβυρίνθου, ώστε να μην κατεδαφιστούν τοίχοι που περιβάλλουν τον λαβύρινθο. Αναλυτικότερα σε κάθε δημιουργηθέντα λαβύρινθο υπάρχει ένα περίγραμμα από τοίχους που τον οριοθετεί και οι οποίοι δεν πρέπει να κατεδαφιστούν στον κώδικα της τροποποίησης, για αυτό αν κάποιοι από τους γετονικούς τοίχους του προορισμού F είναι τοίχοι που περιγράμματος αγνοούνται και δεν είναι επιλογές προς κατεδάφιση.\n",
        "\n"
      ]
    },
    {
      "cell_type": "markdown",
      "metadata": {
        "id": "7XhekogLCJ1i"
      },
      "source": [
        "## Μέρος 2\n",
        "\n",
        "Παρακάτω σας δίνετε ο σκελετός της κλάσης Pathfinder η οποία αρχικοποιείται με ένα αντικείμενο ```Maze``` (από το πρώτο μέρος), τη συνάρτηση πραγματικού κόστους ```c``` και την ευριστική ```h```. Σε αυτήν θα υλοποιήσετε τον αλγόριθμο αναζήτησης Α*.\n",
        "\n"
      ]
    },
    {
      "cell_type": "markdown",
      "metadata": {
        "id": "Oo7fspAO0kjk"
      },
      "source": [
        "Στο ερώτημα αυτό υλοποιούμε τον Αλγόριθμο Α*, ως συνάρτηση της κλάσης Pathfinder. Στην παρακάτω υλοποίηση το set \"openset\" αναπαριστά το μέτωπο αναζήτησης και το set \"closedset\" το κλειστό σύνολο. Έτσι, ξεκινώντας από την αφετηρία S ως τρέχουσα κατάσταση και όσο το μέτωπο αναζήτησης δεν είναι άδειο ο αλγόριθμος επιλέγει τον κόμβο με το μικρότερο κόστος f από αυτό και εξετάζει αν αυτός είναι ο κόμβος προορισμού:\n",
        "Αν ναι τότε επιστρέφει το μονοπάτι για το οποίο ο κόμβος έχει το συγκεκριμένο κόστος f (κάνωντας backtracking σε έναν πίνακα γονέων) και σταματά. Ο λόγος που ο αλγόριθμος μπορεί να σταματήσει στο σημείο αυτό είναι πως έχει σίγουρα βρει την βέλτιστη διαδρομή, καθώς όλες οι άλλες διαδρομές στο μέτωπο αναζήτησης έχουν κόστος ίδιο ή μεγαλύτερο από αυτό της διαδρομής που βρήκαμε, αλλιώς ο κόμβος δεν θα είχε επιλεγεί ως τρέχουσα κατάσταση. \n",
        "Αν ο κόμβος που βρέθηκε δεν είναι ο κόμβος προορισμού, τότε ο αλγόριθμος βρίσκει όλα τα παιδιά του κόμβου αυτού (γείτονες που δεν είναι τοίχοι) και για καθένα από αυτά πραγματοποιεί τον εξής έλεγχο:\n",
        "*  Αν το παιδί δεν υπάρχει στο μέτωπο αναζήτησης ή στο κλειστό σύνολο τότε σίγουρα δεν έχει φτάσει ο αλγόριθμός μας ξανά σε αυτό, και άρα δεν έχει βρει κάποια άλλη διαδρομή από την αφετηρία προς αυτό. Έτσι, το παιδί προστίθεται στο ανοιχτό σύνολο, και αποθηκεύεται ο γονέας του (η τρέχουσα κατάσταση) και η απόστασή του από την αφετηρία.\n",
        "*  Αν το παιδί υπάρχει στο μέτωπο αναζήτησης ή στο κλειστό σύνολο, τότε έχουμε ήδη εξετάσει το παιδί αυτό και υπάρχει μια διαδρομή ήδη από την αφετηρία προς αυτό. Στην περίπτωση αυτή ο αλγόριθμος πρέπει να εξετάσει για ποια από τις δύο διαδρομές, την τρέχουσα ή αυτή που βρέθηκε νωρίτερα, η τιμή f είναι μικρότερη. Καθώς όμως έχουμε μία μοναδική τιμή ευριστικής h για το παιδί, αρκεί να εξετάσουμε ποια απόσταση από την αφετηρία μέχρι το παιδί είναι μικρότερη. Αν η απόσταση της νέας διαδρομής είναι μικρότερη πρέπει να ανανεώσουμε τόσο την απόσταση αυτή όσο και τον πίνακα γονέων και να φροντίσουμε το παιδί να τοποθετηθεί στο μέτωπο αναζήτησης, αν δεν ήταν ήδη, και να αφαιρεθεί από το κλειστό σύνολο, αν βρισκόταν εκεί. \n",
        "\n",
        "Στην συνεχεια ο αλγόριθμος επιλέγει μια νέα τρέχουσα κατάσταση από το μέτωπο αναζήτησης (αυτή με το μικρότερο κόστος f) και επαναλαμβάνεται η παραπάνω διαδικασία. \n",
        "\n",
        "Ακολουθεί η υλοποίηση του αλγορίθμου:\n"
      ]
    },
    {
      "cell_type": "code",
      "metadata": {
        "id": "dXgXz9ZbCR2y"
      },
      "source": [
        "class Pathfinder:\n",
        "    def __init__(self, maze, c, h):\n",
        "        \"\"\"\n",
        "        maze : Αντικείμενο τύπου Maze (από Μέρος 1)\n",
        "        c : Συνάρτηση που υπολογίζει την πραγματική απόσταση μεταξύ δύο σημείων\n",
        "        h : Συνάρτηση που υπολογίζει την ευριστική μεταξύ δύο σημείων\n",
        "        \"\"\"\n",
        "        self.maze = maze\n",
        "        self.vis = visualization(maze.S, maze.F)\n",
        "        self.path = []\n",
        "        self.cost = c\n",
        "        self.heuristic = h\n",
        "        self.closedset=set([])                      # initialize closed set\n",
        "       \n",
        "        \n",
        "    ### Fill the path list with the coordinates of each point in the path from maze.S to maze.F\n",
        "    ### Your code here\n",
        "        self.g={}                                   # dictionary that keeps g values of nodes\n",
        "        self.parents={}                             # dictionart that keeps parents of nodes in paths\n",
        "\n",
        "        self.visual=visualization(maze.S,maze.F)    # initialize visualization class\n",
        "        self.path = self.a_star()\n",
        "        \n",
        "    def get_least(self,openset):\n",
        "      min=None\n",
        "      for i in openset:\n",
        "        if (min==None or self.g[i]+self.heuristic(i,self.maze.F)<self.g[min]+self.heuristic(min,self.maze.F)):\n",
        "          min=i\n",
        "      return min\n",
        "\n",
        "    def get_neighboors(self,picked):                # returns all neighboors of picked cell that are not walls\n",
        "      not_w=[]\n",
        "      if (picked[0]>0 and self.maze.grid[picked[0]-1][picked[1]]):\n",
        "        not_w.append((picked[0]-1,picked[1]))\n",
        "      if (picked[0]<self.maze.N-1 and self.maze.grid[picked[0]+1][picked[1]]):\n",
        "        not_w.append((picked[0]+1,picked[1]))\n",
        "      if (picked[1]<self.maze.N-1 and self.maze.grid[picked[0]][picked[1]+1]):\n",
        "        not_w.append((picked[0],picked[1]+1))\n",
        "      if (picked[1]>0 and self.maze.grid[picked[0]][picked[1]-1]):\n",
        "        not_w.append((picked[0],picked[1]-1))\n",
        "      return not_w\n",
        "\n",
        "    def a_star(self):\n",
        "      openset=set([self.maze.S])                    # initialize open set and add starting node to it\n",
        "      self.g[self.maze.S]=0                         # g value of starting node is 0\n",
        "      self.parents[self.maze.S]=self.maze.S         # parent of start is itself\n",
        "\n",
        "      while (len(openset)!=0):                      # while open list not empty\n",
        "        current_state=self.get_least(openset)       # find the node with the least f metric\n",
        "        \n",
        "\n",
        "        #code for visualization: \n",
        "        frontier=list(openset)\n",
        "        expanded_nodes=list(self.closedset)\n",
        "        self.visual.draw_step(self.maze, frontier, expanded_nodes)      # add frame to visualization\n",
        "        \n",
        "\n",
        "        if current_state==self.maze.F :             # if we have reached the destination , return reconstructed path\n",
        "          path=[]\n",
        "          cur=current_state\n",
        "          path.append(self.maze.F)\n",
        "          while (self.parents[cur]!=cur):           # travese backwards from F to S\n",
        "            path.append(self.parents[cur])\n",
        "            cur=self.parents[cur]\n",
        "          path.append(self.maze.S)\n",
        "          path.reverse()\n",
        "          self.visual.add_path(path)                # add path found to visualization\n",
        "          return path\n",
        "\n",
        "        else:                                       # we have not yet reached our destination\n",
        "          openset.remove(current_state)             # remove current state from open set\n",
        "          neighboors=self.get_neighboors(current_state)                 # get neighboors of current state\n",
        "          for i in neighboors:\n",
        "            distance=self.g[current_state]+self.cost(current_state,i)   # distance from start for neighboors is that of the current state plus one\n",
        "\n",
        "            if (i not in openset and i not in self.closedset):          # if i not present in open set and not present in closed set, we do not gave a g value in the dictionary to compare with \"distance\", so we just add the node to open set\n",
        "              openset.add(i)                        # add to open set\n",
        "              self.parents[i]=current_state         # set current state as parent\n",
        "              self.g[i]=distance                    # update distance from start\n",
        "            else:                                   # neighboor present in openlist or closed list, so we already have a g value and a path for it\n",
        "              if (self.g[i]>distance):              # if we have found a better path from start to this node (since we have one h for the node, the path with the smallest g has the best f metric)\n",
        "                self.parents[i]=current_state       # update parent\n",
        "                self.g[i]=distance                  # update distance from start\n",
        "                if (i not in openset):              # if i not open set (i was only in closed set) \n",
        "                  openset.add(i)                    # add it\n",
        "                  self.closedset.remove(i)          # remove it from closed set\n",
        "\n",
        "          self.closedset.add(current_state)         # add current state to closed set\n",
        "\n",
        "          \n",
        "\n",
        "    def get_path(self):\n",
        "        return self.path\n",
        "\n",
        "    def get_expanded_nodes(self):\n",
        "        return self.closedset"
      ],
      "execution_count": null,
      "outputs": []
    },
    {
      "cell_type": "markdown",
      "metadata": {
        "id": "7mA1elqEy-GU"
      },
      "source": [
        "Για να δείτε το μονοπάτι που κατασκευάσατε, μπορείτε να καλείτε τη μέθοδο ```draw_map``` του αντικειμένου ```maze``` οπως φαίνεται στο παρακάτω κελί."
      ]
    },
    {
      "cell_type": "markdown",
      "metadata": {
        "id": "XZ4miuAW5dTS"
      },
      "source": [
        "Αφού έχουμε υλοποιήσει τον αλγόριθμο, πρέπει να ορίσουμε ποιες θα είναι οι συναρτήσεις g και h. Μας ζητούνται οι εξής πειραματισμοί:\n",
        "* $g(n)=0$ και $h(n)=\\{\\text{manhattan}(n),\\text{euclidean}(n)\\}$.\n",
        "\n",
        "  Στην περίπτωση αυτή ο αλγόριθμος που προκύτπει είναι ο Best First, καθώς χρησιμοποιείται ουσιαστικά μόνο η ευριστική συνάρτηση απόστασης από τον προορισμό και δεν λαμβάνεται υπ' όψιν το κοστος από την αφετηρία g(n).\n",
        "* $g(n)=1$ και $h(n)=0$. \n",
        "\n",
        "  Ο αλγόριθμος αυτός λαμβάνει υπ' όψιν μόνο την απόσταση από την αφετηρία και δεν χρησιμοποιεί καμία ευριστική συνάρτηση απόστασης από τον προορισμό. Πρόκειται επομένως για τον αλγόριθμο Dijkstra.\n",
        "* $g(n)=1$ και $h(n)=\\{\\text{manhattan}(n),\\text{euclidean}(n)\\}$.\n",
        "\n",
        "   Ο αλγόριθμος λαμβάνει τώρα υπ' όψιν τόσο το πραγματικό κόστος από την αφετηρία (το μήκος του μονοπατιού) όσο και μία ευριστική συνάρτηση απόστασης από τον προορισμό. Πρόκεται δηλαδή για τον A*."
      ]
    },
    {
      "cell_type": "markdown",
      "metadata": {
        "id": "p5ealtUf7eGk"
      },
      "source": [
        "Στην συνέχεια ορίζουμε τις συναρτήσεις που υπολογίζουν τις αποστάσεις Manhattan και Euclidean, καθώς και την μηδενική ευριστική που ζητείται στην 2η περίπτωση:\n",
        "\n"
      ]
    },
    {
      "cell_type": "code",
      "metadata": {
        "id": "ij9CXQzl7qfD"
      },
      "source": [
        "def manhattan(a,b):\n",
        "  return(abs(a[0]-b[0])+ abs(a[1]-b[1]))\n",
        "\n",
        "def euclidean(a,b):\n",
        "  return np.sqrt((a[0]-b[0])**2 +(a[1]-b[1])**2)\n",
        "\n",
        "def zero_heuristic(a,b):\n",
        "  return 0"
      ],
      "execution_count": null,
      "outputs": []
    },
    {
      "cell_type": "markdown",
      "metadata": {
        "id": "IljalWJq9Xx7"
      },
      "source": [
        "Δημιουργούμε έναν λαβύρινθο:"
      ]
    },
    {
      "cell_type": "code",
      "metadata": {
        "id": "pbpGXmqe8ivy"
      },
      "source": [
        "## Create a 50x50 maze\n",
        "N = 50\n",
        "S = (3, 2)\n",
        "F = (45, 43)\n",
        "maze = Maze(N, S, F)"
      ],
      "execution_count": null,
      "outputs": []
    },
    {
      "cell_type": "markdown",
      "metadata": {
        "id": "o64vH0Vu8j7_"
      },
      "source": [
        "Εκτελούμε τώρα τους διαφορετικοίς πειραματισμούς:"
      ]
    },
    {
      "cell_type": "markdown",
      "metadata": {
        "id": "LrttA3u-8uMe"
      },
      "source": [
        "###Manhattan Distance"
      ]
    },
    {
      "cell_type": "code",
      "metadata": {
        "colab": {
          "base_uri": "https://localhost:8080/",
          "height": 773
        },
        "id": "whzjA-Vn8qvt",
        "outputId": "53dc127a-d96c-4ded-818d-eebf36e99c18"
      },
      "source": [
        "# Best First\n",
        "\n",
        "## Find and visualize the path\n",
        "pf = Pathfinder(maze=maze, c = lambda x, y: 0, h = manhattan)\n",
        "maze.draw_map(pf.get_path())\n",
        "print(\"Path length: \", len(pf.get_path()))\n",
        "\n",
        "# Dijkstra\n",
        "\n",
        "## Find and visualize the path\n",
        "pf = Pathfinder(maze=maze, c = lambda x, y: 1, h = zero_heuristic)\n",
        "maze.draw_map(pf.get_path())\n",
        "print(\"Path length: \", len(pf.get_path()))\n",
        "\n",
        "# A*\n",
        "\n",
        "## Find and visualize the path\n",
        "pf = Pathfinder(maze=maze, c = lambda x, y: 1, h = manhattan)\n",
        "maze.draw_map(pf.get_path())\n",
        "print(\"Path length: \", len(pf.get_path()))\n"
      ],
      "execution_count": null,
      "outputs": [
        {
          "output_type": "display_data",
          "data": {
            "image/png": "[encoded data removed]",
            "text/plain": [
              "<Figure size 432x288 with 1 Axes>"
            ]
          },
          "metadata": {}
        },
        {
          "output_type": "stream",
          "name": "stdout",
          "text": [
            "Path length:  87\n"
          ]
        },
        {
          "output_type": "display_data",
          "data": {
            "image/png": "[encoded data removed]",
            "text/plain": [
              "<Figure size 432x288 with 1 Axes>"
            ]
          },
          "metadata": {}
        },
        {
          "output_type": "stream",
          "name": "stdout",
          "text": [
            "Path length:  85\n"
          ]
        },
        {
          "output_type": "display_data",
          "data": {
            "image/png": "[encoded data removed]",
            "text/plain": [
              "<Figure size 432x288 with 1 Axes>"
            ]
          },
          "metadata": {}
        },
        {
          "output_type": "stream",
          "name": "stdout",
          "text": [
            "Path length:  85\n"
          ]
        }
      ]
    },
    {
      "cell_type": "markdown",
      "metadata": {
        "id": "1Gq28e83FpND"
      },
      "source": [
        "###Euclidean Distance"
      ]
    },
    {
      "cell_type": "code",
      "metadata": {
        "colab": {
          "base_uri": "https://localhost:8080/",
          "height": 773
        },
        "id": "wfr78UwPFsDg",
        "outputId": "13d60d47-6bf0-419e-c014-0ee1d96f4fc6"
      },
      "source": [
        "# Best First\n",
        "\n",
        "## Find and visualize the path\n",
        "pf = Pathfinder(maze=maze, c = lambda x, y: 0, h = euclidean)\n",
        "maze.draw_map(pf.get_path())\n",
        "print(\"Path length: \", len(pf.get_path()))\n",
        "\n",
        "# Dijkstra\n",
        "\n",
        "## Find and visualize the path\n",
        "pf = Pathfinder(maze=maze, c = lambda x, y: 1, h = zero_heuristic)\n",
        "maze.draw_map(pf.get_path())\n",
        "print(\"Path length: \", len(pf.get_path()))\n",
        "\n",
        "# A*\n",
        "\n",
        "## Find and visualize the path\n",
        "pf = Pathfinder(maze=maze, c = lambda x, y: 1, h = euclidean)\n",
        "maze.draw_map(pf.get_path())\n",
        "print(\"Path length: \", len(pf.get_path()))"
      ],
      "execution_count": null,
      "outputs": [
        {
          "output_type": "display_data",
          "data": {
            "image/png": "[encoded data removed]",
            "text/plain": [
              "<Figure size 432x288 with 1 Axes>"
            ]
          },
          "metadata": {}
        },
        {
          "output_type": "stream",
          "name": "stdout",
          "text": [
            "Path length:  87\n"
          ]
        },
        {
          "output_type": "display_data",
          "data": {
            "image/png": "[encoded data removed]",
            "text/plain": [
              "<Figure size 432x288 with 1 Axes>"
            ]
          },
          "metadata": {}
        },
        {
          "output_type": "stream",
          "name": "stdout",
          "text": [
            "Path length:  85\n"
          ]
        },
        {
          "output_type": "display_data",
          "data": {
            "image/png": "[encoded data removed]",
            "text/plain": [
              "<Figure size 432x288 with 1 Axes>"
            ]
          },
          "metadata": {}
        },
        {
          "output_type": "stream",
          "name": "stdout",
          "text": [
            "Path length:  85\n"
          ]
        }
      ]
    },
    {
      "cell_type": "markdown",
      "metadata": {
        "id": "ajVtVwC7gJYd"
      },
      "source": [
        "###Σχολιασμός"
      ]
    },
    {
      "cell_type": "markdown",
      "metadata": {
        "id": "1c9i88l2GLwK"
      },
      "source": [
        "Παρατηρούμε πως από τα δύο paths που διαθέτουμε από την αφετηρία μέχρι τον προορισμό ο αλγόριθμος Best First δεν βρίσκει το βέλτιστο μονοπάτι. Αντίθετα, τόσο ο αλγόριθμος Dijkstra όσο και ο A* βρίσκουν το βέλτιστο. Συγκεκριμένα, ο Dijsktra γνωρίζουμε πως βρίσκει πάντα το βέλτιστο μονοπάτι, καθώς δουλεύει με τα πραγματικά κόστη (αποστάσεις από την αφετηρία) χωρίς να επηρεάζεται από καμία ευριστική εκτίμηση. Ο Α* βρίσκει πάντα το βέλτιστο μονοπάτι με την προϋπόθεση πως ο ευριστικός μηχανισμός που χρησιμοποιείται είναι αποδεκτός. Έτσι, αφού οι αποστάσεις Manhattan και Εuclidean είναι αποδεκτές (η πρώτη ισούται με το ελάχιστο μήκος της διαδρομής μεταξύ αφετηρίας και προορισμού υπό την προυπόθεση ότι πρέπει να κινούμαστε κάθε φορά κατά μήκος του x ή y άξονα, και η δεύτερη με το μήκος της ευθείας γραμμής μεταξύ αφετηρίας και προορισμού), ο Α* θα μας δίνει το βέλτιστο μονοπάτι. "
      ]
    },
    {
      "cell_type": "markdown",
      "metadata": {
        "id": "PkZY8E0jJC6e"
      },
      "source": [
        "Εκτός των αποστάσεων Euclidean και Manhattan μπορούμε να προτείνουμε και άλλες ευριστικές. Σημαντικό είναι οι ευριστικές που προτείνουμε να είναι αποδεκτές, προκειμένου να είναι βέβαιο πως ο Α* θα βρίσκει με την χρήση αυτών πάντα το βέλτιστο μονοπάτι. Για παράδειγμα θα μπορούσαμε να χρησιμοποιήσουμε την απόσταση Chebyshev. Η απόσταση αυτή υλοποιείται στην συνέχεια:"
      ]
    },
    {
      "cell_type": "markdown",
      "metadata": {
        "id": "OzSuYOe9MB5B"
      },
      "source": [
        "###Chebyshev Distance"
      ]
    },
    {
      "cell_type": "code",
      "metadata": {
        "id": "Zk92eO6BL4CY"
      },
      "source": [
        "def chebyshev(a,b):\n",
        "    return(max(abs(a[0]-b[0]), abs(a[1]-b[1])))"
      ],
      "execution_count": null,
      "outputs": []
    },
    {
      "cell_type": "code",
      "metadata": {
        "colab": {
          "base_uri": "https://localhost:8080/",
          "height": 773
        },
        "id": "1jPcY5r7MGgH",
        "outputId": "b0913384-b72e-472e-cd43-9d96c3b5f6a2"
      },
      "source": [
        "# Best First\n",
        "\n",
        "## Find and visualize the path\n",
        "pf = Pathfinder(maze=maze, c = lambda x, y: 0, h = chebyshev)\n",
        "maze.draw_map(pf.get_path())\n",
        "print(\"Path length: \",len(pf.get_path()))\n",
        "\n",
        "# Dijkstra\n",
        "\n",
        "## Find and visualize the path\n",
        "pf = Pathfinder(maze=maze, c = lambda x, y: 1, h = zero_heuristic)\n",
        "maze.draw_map(pf.get_path())\n",
        "print(\"Path length: \",len(pf.get_path()))\n",
        "\n",
        "# A*\n",
        "\n",
        "## Find and visualize the path\n",
        "pf = Pathfinder(maze=maze, c = lambda x, y: 1, h = chebyshev)\n",
        "maze.draw_map(pf.get_path())\n",
        "print(\"Path length: \",len(pf.get_path()))"
      ],
      "execution_count": null,
      "outputs": [
        {
          "output_type": "display_data",
          "data": {
            "image/png": "[encoded data removed]",
            "text/plain": [
              "<Figure size 432x288 with 1 Axes>"
            ]
          },
          "metadata": {}
        },
        {
          "output_type": "stream",
          "name": "stdout",
          "text": [
            "Path length:  87\n"
          ]
        },
        {
          "output_type": "display_data",
          "data": {
            "image/png": "[encoded data removed]",
            "text/plain": [
              "<Figure size 432x288 with 1 Axes>"
            ]
          },
          "metadata": {}
        },
        {
          "output_type": "stream",
          "name": "stdout",
          "text": [
            "Path length:  85\n"
          ]
        },
        {
          "output_type": "display_data",
          "data": {
            "image/png": "[encoded data removed]",
            "text/plain": [
              "<Figure size 432x288 with 1 Axes>"
            ]
          },
          "metadata": {}
        },
        {
          "output_type": "stream",
          "name": "stdout",
          "text": [
            "Path length:  85\n"
          ]
        }
      ]
    },
    {
      "cell_type": "markdown",
      "metadata": {
        "id": "TQ4ycwz-MOUe"
      },
      "source": [
        "Παρατηρούμε πως ο αλγόριθμος A* εξακολουθεί να επιστρέφει την βέλτιστη απόσταση το οποίο είναι λογικό αφού η απόσταση Chebyshev είναι αποδεκτή ευριστική (αφού επιστρέφει πάντα το max και όχι το άθροισμα τον απολύτων τιμών των διαφορών των συντεταγμένων θα επιστρέφει πάντα μικρότερη ή ίση τιμή από αυτήν της Manhattan, άρα αφού είναι αποδεκτή η Manhattan θα είναι και η Chebyshev)."
      ]
    },
    {
      "cell_type": "markdown",
      "metadata": {
        "id": "XmmqhRLfEjKj"
      },
      "source": [
        "## Μέρος 3\n",
        "\n",
        "Στο παρακάτω κελί σας δίνεται ένα παράδειγμα για την κατασκευή γραφικών παραστάσεων. Θα πρέπει να κατασκευάσετε τις δύο γραφικές παραστάσεις σύμφωνα με τα ζητούμενα της άσκησης."
      ]
    },
    {
      "cell_type": "markdown",
      "metadata": {
        "id": "OyrHQyn8t2Ff"
      },
      "source": [
        "Συγκρίνοντας γενικά την χρονική πολυπλοκότητα των αλγορίθμων Dijkstra, A* και Best First μπορούμε να αναφέρουμε πως ο Dijkstra έχει πολυπλοκότητα Ο(|E|+|V|log|V}), όπου |Ε| το πλήθος ακμών και |V| το πλήθος κορυφών του γράφου. \n",
        "Ο αλγόριθμος A**, χρησιμοποιώντας μια ευριστική για να κατευθύνει την αναζήτηση προς τους πιο κατάλληλους κόμβους (κάτι το οποίο δεν κάνει ο Dijkstra) είναι με χρήση κατάλληλης ευριστικής πιο γρήγορος από τον Dijkstra, καθώς εξετάζει λιγότερους κόμβους. Συγκεκριμένα, εκτελείται στη χειρότερη περίπτωση σε πολυωνυμικό χρόνο (σε σχέση με τον αριθμό των μεταβάσεων του βέλτιστου μονοπατιού), \n",
        "αν |h(x) − h **(x)| = \n",
        "O(log(h **(x))) \n",
        "όπου h **(x) η βέλτιστη ευριστική, δηλαδή η πραγματική απόσταση από το στόχο. \n",
        "\n",
        "Γενικά ο χρόνος που χρειάζεται ο Α* εξαρτάται σε πολύ μεγάλο βαθμό από την ευριστική συνάρτηση που χρησιμοποιείται.\n",
        "\n",
        "Όσον αφορά τον Best First, καθώς αυτός δεν επιστρέφει την βέλτιστη λύση, δεν έχει νόημα να συγκρίνεται με τους Α* και Dijkstra. Μπορούμε όμως να αναφέρουμε πως η ταχύτητά του επηρεάζεται από την ευριστική συνάρτηση που χρησιμοποιείται και έχει Worst Time Complexity O(|V|log|V|), όπου |V| το πλήθος κόμβων του γράφου.\n",
        "\n",
        "Στην συνέχεια συγκρίνουμε την απόδοση των αλγορίθμων έμπρακτα, με την χρήση γραφικών παραστάσεων:"
      ]
    },
    {
      "cell_type": "markdown",
      "metadata": {
        "id": "g3PFSum0uQqy"
      },
      "source": [
        "###Γραφικές παραστάσεις"
      ]
    },
    {
      "cell_type": "code",
      "metadata": {
        "colab": {
          "base_uri": "https://localhost:8080/",
          "height": 573
        },
        "id": "j_wp8ZuWtwEw",
        "outputId": "3ad8373d-0325-41cf-a4c8-f01d3aa733f8"
      },
      "source": [
        "import random\n",
        "\n",
        "# initialize the arrays that are going to be used in the plots' axes\n",
        "ext_nodes_num_BF_m = []\n",
        "ext_nodes_num_BF_e = []\n",
        "ext_nodes_num_BF_ch = []\n",
        "ext_nodes_num_D = []\n",
        "ext_nodes_num_A_m = []\n",
        "ext_nodes_num_A_e = []\n",
        "ext_nodes_num_A_ch = []\n",
        "\n",
        "path_lengths_BF_m = []\n",
        "path_lengths_BF_e = []\n",
        "path_lengths_BF_ch = []\n",
        "path_lengths_D = []\n",
        "path_lengths_A_m = []\n",
        "path_lengths_A_e = []\n",
        "path_lengths_A_ch = []\n",
        "\n",
        "map_sizes = []\n",
        "\n",
        "\n",
        "for N in range(10,51):                      # create mazes of sizes {10, 11, .. , 50}\n",
        "    map_sizes.append(N)                     # add dimension N in the x-axis array\n",
        "\n",
        "    # initialize helper variables for each array to find the average number of extended nodes for the 10 mazes in each dimension N (helpers to calculate the sum)\n",
        "    temp_ext_nodes_num_BF_m = 0\n",
        "    temp_ext_nodes_num_BF_e = 0\n",
        "    temp_ext_nodes_num_BF_ch = 0\n",
        "    temp_ext_nodes_num_D = 0\n",
        "    temp_ext_nodes_num_A_m = 0\n",
        "    temp_ext_nodes_num_A_e = 0\n",
        "    temp_ext_nodes_num_A_ch = 0\n",
        "\n",
        "    # initialize helper variables for each array to find the average path length for the 10 mazes in each dimension N (helpers to calculate the sum)\n",
        "    temp_path_lengths_BF_m = 0\n",
        "    temp_path_lengths_BF_e = 0\n",
        "    temp_path_lengths_BF_ch = 0\n",
        "    temp_path_lengths_D = 0\n",
        "    temp_path_lengths_A_m = 0\n",
        "    temp_path_lengths_A_e = 0\n",
        "    temp_path_lengths_A_ch = 0\n",
        "\n",
        "    for m in range(0,10):                   # loop for 10 different mazes of the same size N\n",
        "        x1 = random.randint(1, N-2)         # choose randomly the coordinates (x, y) for start node S and finish node F\n",
        "        y1 = random.randint(1, N-2)\n",
        "        while True:\n",
        "          x2 = random.randint(1, N-2)\n",
        "          y2 = random.randint(1, N-2)\n",
        "          if (x2 != x1 and y2 != y1):       # choose finish node F that has different coordinates than start node S\n",
        "            break\n",
        "        \n",
        "        S = (x1, y1)\n",
        "        F = (x2, y2)\n",
        "        maze = Maze(N, S, F)                # create maze with the current size N and the random start S and finish F (it will run for all the algorithms)\n",
        "\n",
        "        # Best First\n",
        "        pf_BF_m = Pathfinder(maze=maze, c = lambda x, y: 0, h = manhattan)\n",
        "        pf_BF_e = Pathfinder(maze=maze, c = lambda x, y: 0, h = euclidean)\n",
        "        pf_BF_ch = Pathfinder(maze=maze, c = lambda x, y: 0, h = chebyshev)\n",
        "\n",
        "        temp_ext_nodes_num_BF_m += len(pf_BF_m.get_expanded_nodes())\n",
        "        temp_ext_nodes_num_BF_e += len(pf_BF_e.get_expanded_nodes())\n",
        "        temp_ext_nodes_num_BF_ch += len(pf_BF_ch.get_expanded_nodes())\n",
        "\n",
        "        temp_path_lengths_BF_m += len(pf_BF_m.get_path())\n",
        "        temp_path_lengths_BF_e += len(pf_BF_e.get_path())\n",
        "        temp_path_lengths_BF_ch += len(pf_BF_ch.get_path())\n",
        "\n",
        "        # Dijkstra\n",
        "        pf_D = Pathfinder(maze=maze, c = lambda x, y: 1, h = zero_heuristic)\n",
        "\n",
        "        temp_ext_nodes_num_D += len(pf_D.get_expanded_nodes())\n",
        "        temp_path_lengths_D += len(pf_D.get_path())\n",
        "\n",
        "        # A*\n",
        "        pf_A_m = Pathfinder(maze=maze, c = lambda x, y: 1, h = manhattan)\n",
        "        pf_A_e = Pathfinder(maze=maze, c = lambda x, y: 1, h = euclidean)\n",
        "        pf_A_ch = Pathfinder(maze=maze, c = lambda x, y: 1, h = chebyshev)\n",
        "\n",
        "        temp_ext_nodes_num_A_m += len(pf_A_m.get_expanded_nodes())\n",
        "        temp_ext_nodes_num_A_e += len(pf_A_e.get_expanded_nodes())\n",
        "        temp_ext_nodes_num_A_ch += len(pf_A_ch.get_expanded_nodes())\n",
        "\n",
        "        temp_path_lengths_A_m += len(pf_A_m.get_path())\n",
        "        temp_path_lengths_A_e += len(pf_A_e.get_path())\n",
        "        temp_path_lengths_A_ch += len(pf_A_ch.get_path())\n",
        "\n",
        "    # after we create the 10 mazes for each dimension N we find the averages and push them in the correct array\n",
        "    ext_nodes_num_BF_m.append(temp_ext_nodes_num_BF_m/10)\n",
        "    ext_nodes_num_BF_e.append(temp_ext_nodes_num_BF_e/10)\n",
        "    ext_nodes_num_BF_ch.append(temp_ext_nodes_num_BF_ch/10)\n",
        "    ext_nodes_num_D.append(temp_ext_nodes_num_D/10)\n",
        "    ext_nodes_num_A_m.append(temp_ext_nodes_num_A_m/10)\n",
        "    ext_nodes_num_A_e.append(temp_ext_nodes_num_A_e/10)\n",
        "    ext_nodes_num_A_ch.append(temp_ext_nodes_num_A_ch/10)\n",
        "\n",
        "    path_lengths_BF_m.append(temp_path_lengths_BF_m/10)\n",
        "    path_lengths_BF_e.append(temp_path_lengths_BF_e/10)\n",
        "    path_lengths_BF_ch.append(temp_path_lengths_BF_ch/10)\n",
        "    path_lengths_D.append(temp_path_lengths_D/10)\n",
        "    path_lengths_A_m.append(temp_path_lengths_A_m/10)\n",
        "    path_lengths_A_e.append(temp_path_lengths_A_e/10)\n",
        "    path_lengths_A_ch.append(temp_path_lengths_A_ch/10)\n",
        "\n",
        "# plot the diagram for path length\n",
        "plt.plot(map_sizes, path_lengths_BF_m, label=\"Best First - Manhattan\", color = \"#FF0000\")\n",
        "plt.plot(map_sizes, path_lengths_BF_e, label=\"Best First - Euclidean\", color = \"#00008B\")\n",
        "plt.plot(map_sizes, path_lengths_BF_ch, label=\"Best First - Chebyshev\", color = \"#96CDCD\")\n",
        "plt.plot(map_sizes, path_lengths_D, label=\"Dijkstra\", color = \"#458B00\")\n",
        "plt.plot(map_sizes, path_lengths_A_m, label=\"A* - Manhattan\", color = \"#EEAD0E\")\n",
        "plt.plot(map_sizes, path_lengths_A_e, label=\"A* - Euclidean\", color = \"#9A32CD\")\n",
        "plt.plot(map_sizes, path_lengths_A_ch, label=\"A* - Chebyshev\", color = \"#8B2323\")\n",
        "plt.title('Path length vs map size')\n",
        "plt.ylabel('Path Length') \n",
        "plt.xlabel('Map Size') \n",
        "plt.legend()\n",
        "plt.show()\n",
        "\n",
        "# plot the diagram for number of extended nodes\n",
        "plt.plot(map_sizes, ext_nodes_num_BF_m, label=\"Best First - Manhattan\", color = \"#FF0000\")\n",
        "plt.plot(map_sizes, ext_nodes_num_BF_e, label=\"Best First - Euclidean\", color = \"#00008B\")\n",
        "plt.plot(map_sizes, ext_nodes_num_BF_ch, label=\"Best First - Chebyshev\", color = \"#96CDCD\")\n",
        "plt.plot(map_sizes, ext_nodes_num_D, label=\"Dijkstra\", color = \"#458B00\")\n",
        "plt.plot(map_sizes, ext_nodes_num_A_m, label=\"A* - Manhattan\", color = \"#EEAD0E\")\n",
        "plt.plot(map_sizes, ext_nodes_num_A_e, label=\"A* - Euclidean\", color = \"#9A32CD\")\n",
        "plt.plot(map_sizes, ext_nodes_num_A_ch, label=\"A* - Chebyshev\", color = \"#8B2323\")\n",
        "plt.title('Extended nodes number vs map size')\n",
        "plt.ylabel('Extended nodes number') \n",
        "plt.xlabel('Map Size') \n",
        "plt.legend()\n",
        "plt.show()\n"
      ],
      "execution_count": null,
      "outputs": [
        {
          "output_type": "display_data",
          "data": {
            "image/png": "[encoded data removed]",
            "text/plain": [
              "<Figure size 432x288 with 1 Axes>"
            ]
          },
          "metadata": {
            "needs_background": "light"
          }
        },
        {
          "output_type": "display_data",
          "data": {
            "image/png": "[encoded data removed]",
            "text/plain": [
              "<Figure size 432x288 with 1 Axes>"
            ]
          },
          "metadata": {
            "needs_background": "light"
          }
        }
      ]
    },
    {
      "cell_type": "markdown",
      "metadata": {
        "id": "fjWiscL37Ume"
      },
      "source": [
        "#### Σχολιασμός μεταβολής συμπεριφοράς αλγορίθμων με βάση τις παρατηρήσεις των γραφικών παραστάσεων "
      ]
    },
    {
      "cell_type": "markdown",
      "metadata": {
        "id": "SwT6v8CSyaF6"
      },
      "source": [
        "\n",
        "  *  Για την **γραφική μήκους μονοπατιού** συναρτήσει μεγέθους λαβυρίνθου παρατηρούμε:\n",
        "    * Κατα κανόνα όσο μεγαλύτερο είναι το μήκος λαβυρίνθου τόσο μεγαλώνει και το μήκος του μονοπατιού, αφού σε μεγαλύτερο λαβύρινθο η αφετηρία και ο τερματισμός ενδέχεται να βρίσκονται πιο μακρία σε σχέση με έναν μικρό λαβύρινθο. Βέβαια όλα εξαρτώνται από τον εκάστοτε λαβύρινθο που θα χρησιμοποιηθεί, λόγω της τυχαίας επιλογής αφετηρίας και προορισμού, για αυτό και στην πρώτη γραφική οι καμπύλες δεν είναι γνησίως αύξουσες. \n",
        "    * Το μήκος μονοπατιού για τους Dijkstra και A* είναι σε κάθε περίπτωση ίδιο (οι γραφικές τους συμπέφτουν απόλυτα για αυτό φαίνεται και μόνο το χρώμα της καμπύλης που σχεδιάστηκε τελευταία), γεγονός αναμενόμενο, μιας και γνωρίζουμε ότι οι δύο αυτοί αλγόριθμοι υπολογίζουν σε κάθε περίπτωση, ανεξαρτήτως της ευριστικής απόστασης που χρησιμοποιείται για τον \n",
        "Α*, το βέλτιστο μονοπάτι από την αφετηρία στον προορισμό.\n",
        "    *  O αλγόριθμος Best First δεν βρίσκει σε κάθε περίπτωση το βέλτιστο μονοπάτι, στις περισσότερες περιπτώσεις βρίσκει μονοπάτια με μήκος λίγο μεγαλύτερο από το βέλτιστο. Το είδος της ευριστικής για τον Best First επηρεάζει το μήκος του μονοπατιού που θα επιλεχθεί για έναν συγκεκριμένο λαβύρινθο, ωστόσο δεν εξασφαλίζεται για όλους τους λαβύρινθους ότι η επιλογή μιας συγκεκριμένης ευριστικής θα οδηγήσει σε μικρότερο μονοπάτι σε σχέση με μία άλλη. Επομένως, ανάλογα με τα εμπόδια που υπάρχουν, σε έναν λαβύρινθο μπορεί να ευνοείται και άλλη ευριστική απόσταση, κάτι το οποίο επιβεβαιώνεται από την παραπάνω γραφική, μιας και παρατηρούμε από τις καμπύλες του αλγορίθμου Best First οτι, για διαφορετικά Ν, μεγαλύτερα μονοπάτια παράγονται άλλοτε για την ευριστική manhattan, άλλοτε για την euclidean και άλλοτε για την chebyshev.\n",
        "\n",
        "  Επομένως με κριτήριο το μήκος του μονοπατιού οι αλγόριθμοι A* και Dijkstra είναι ισοδύναμοι και καλύτεροι από τον αλγόριθμο Best First.\n",
        "\n",
        "  *  Για την **γραφική αριθμού επεκταμένων κόμβων** συναρτήσει μεγέθους λαβυρίνθου παρατηρούμε: \n",
        "    *  Όσο αυξάνεται το μέγεθος Ν των λαβυρίνθων εύλογα αυξάνεται και ο αριθμός των επεκταμένων κόμβων, αφού υπάρχουν περίσσοτεροι κόμβοι περάσματα που πρέπει να εξερευνηθούν για να βρεθεί το μονοπάτι από την αφετηρία στον προορισμό. \n",
        "    *  Ο αριθμός των επεκταμένων κόμβων είναι σημαντικά μεγαλύτερος για τον αλγόριθμο Dijkstra, κάτι το οποίο εξηγείται, αφού ο αλγόριθμος αυτός λαμβάνει υπόψιν μόνο την παραγματική απόσταση από την αφετηρία g(n), εξερευνά δηλαδή τον λαβύρινθο με μορφή \"πλημμύρας\". Επομένως εξερευνούνται όλοι οι κόμβοι που έχουν απόσταση από την αφετηρία μικρότερη ή ίση του μήκους του μονοπατιού, ο αριθμός των οποίων είναι στις περισσότερες περιπτώσεις σημαντικά μεγάλος.\n",
        "    * Για τον αλγόριθμο Dijkstra ο αριθμός των κόμβων προς εξερεύνηση αυξάνεται αρκετά για μεγαλύτερα Ν, για αυτό και παρατηρείται ότι (για μεγαλύτερα Ν) ο αριθμός των επεκταμένων κόμβων αυξάνεται πολύ πιο απότομα σε σχέση με την αύξηση για τους Best First και A*. Οι αλγόριθμοι αυτοί παρόλο που για μεγάλα Ν έχουν πολύ περισσότερους κόμβους που μπορούν να εξετάσουν, κάνουν στοχευμένες επιλογές, για αυτό και η αύξηση των επεκταμένων κόμβων είναι πολύ μικρότερη σε σχέση με τον Dijkstra, ενώ θα μπορούσαμε να υποθέσουμε ότι οφείλεται στην αύξηση του μήκους του μονοπατιού και όχι τόσο στην αύξηση των κόμβων προς εξεταση σε όλο τον λαβύρινθο (λόγω της αύξησης του Ν). \n",
        "    * Ο αλγόριθμος Α* εχει μεγαλύτερο αριθμό επεκταμένων κόμβων σε σχέση με τον Best First, γεγονός που εξηγείται γιατί ο Best First κάνει επιλογές μόνο με βάση την τιμή της ευριστικής και δεν ψαχνει το βέλτιστο μονοπάτι \n",
        "    όπως ο Α* , για αυτό και εξετάζει λιγότερους κόμβους. \n",
        "    * Όσον αφορά την επιλογή διαφορετικής ευριστικής για τον Best First δεν φαίνεται κάποια από τις εν λόγω ευριστικές να είναι ξεκάθαρα καλύτερη από τις υπόλοιπες, δηλαδή οι γραφικές είναι αρκετά μπλεγμένες και δεν φαίνεται κάποια να είναι για όλα τα Ν μόνιμα καλύτερη ή χειρότερη από τις άλλες. Θα έλεγε, λοιπόν, κανείς ότι η απόδοση του Best First με διαφορετικές ευριστικές ως προς τον αριθμό των επεκταμένων κόμβων εξαρτάται από τον εκάστοτε λαβύρινθο και το είδος των εμποδίων που αυτός εμφανίζει ανάμεσα στην αφετηρία και τον προορισμό. Από την άλλη για τον αλγόριθμο Α* είναι ξεκάθαρα καλύτερη η απόσταση manhattan ως ευριστική, μιας και παρατηρείται από την γραφική παράσταση ότι δίνει αριθμό επεκταμένων κόμβων παρόμοιο με τον Best First, ενώ για ευριστικές την chebyshev ή την euclidean ο αριθμός των επεκταμένων κόμβων είναι αρκετα μεγαλύτερος για οποιόδηποτε Ν, γεγονός που καθιστά τις δύο αυτές αποστάσεις λιγότερο αποδοτικές άρα και χειρότερες ως επιλογές για ευριστικές συναρτήσεις στον αλγόριθμο Α*. \n",
        "\n",
        "  Επομένως με κριτήριο τον αριθμό των επεκταμένων κόμβων καλύτερος είναι ο αλγόριθμος Best First, ακολουθεί ο A* (με καλύτερη επιλογή ευριστικής την απόσταση manhattan) και χειρότερος είναι ο Dijkstra.\n"
      ]
    },
    {
      "cell_type": "markdown",
      "metadata": {
        "id": "tMFsDyosf2ag"
      },
      "source": [
        "###Visualizations"
      ]
    },
    {
      "cell_type": "code",
      "metadata": {
        "id": "2_9jj_eYi8Zj"
      },
      "source": [
        "# Best First, Manhattan\n",
        "\n",
        "## Find and visualize the path\n",
        "pf = Pathfinder(maze=maze, c = lambda x, y: 0, h = manhattan)\n",
        "pf.visual.show_gif()"
      ],
      "execution_count": null,
      "outputs": []
    },
    {
      "cell_type": "code",
      "metadata": {
        "id": "krzr46wjkp0d"
      },
      "source": [
        "# Dijkstra, Manhattan\n",
        "\n",
        "## Find and visualize the path\n",
        "pf = Pathfinder(maze=maze, c = lambda x, y: 1, h = zero_heuristic)\n",
        "pf.visual.show_gif()"
      ],
      "execution_count": null,
      "outputs": []
    },
    {
      "cell_type": "code",
      "metadata": {
        "id": "emkNN32ak2gD"
      },
      "source": [
        "# A*, Manhattan\n",
        "\n",
        "## Find and visualize the path\n",
        "pf = Pathfinder(maze=maze, c = lambda x, y: 1, h = manhattan)\n",
        "pf.visual.show_gif()"
      ],
      "execution_count": null,
      "outputs": []
    },
    {
      "cell_type": "code",
      "metadata": {
        "id": "HDhBNZ0Vlw_d"
      },
      "source": [
        "# Best First, Euclidean\n",
        "\n",
        "## Find and visualize the path\n",
        "pf = Pathfinder(maze=maze, c = lambda x, y: 0, h = euclidean)\n",
        "pf.visual.show_gif()"
      ],
      "execution_count": null,
      "outputs": []
    },
    {
      "cell_type": "code",
      "metadata": {
        "id": "Hdek8T47lxJ3"
      },
      "source": [
        "# Dijkstra, Euclidean\n",
        "\n",
        "## Find and visualize the path\n",
        "pf = Pathfinder(maze=maze, c = lambda x, y: 1, h = zero_heuristic)\n",
        "pf.visual.show_gif()"
      ],
      "execution_count": null,
      "outputs": []
    },
    {
      "cell_type": "code",
      "metadata": {
        "id": "ROcDBNVglxSi"
      },
      "source": [
        "# A*, Euclidean\n",
        "\n",
        "## Find and visualize the path\n",
        "pf = Pathfinder(maze=maze, c = lambda x, y: 1, h = euclidean)\n",
        "pf.visual.show_gif()"
      ],
      "execution_count": null,
      "outputs": []
    },
    {
      "cell_type": "code",
      "metadata": {
        "id": "Uw9w-GBrnMY8"
      },
      "source": [
        "# Best First, Chebyshev\n",
        "\n",
        "## Find and visualize the path\n",
        "pf = Pathfinder(maze=maze, c = lambda x, y: 0, h = chebyshev)\n",
        "pf.visual.show_gif()"
      ],
      "execution_count": null,
      "outputs": []
    },
    {
      "cell_type": "code",
      "metadata": {
        "id": "YXketECTnMgH"
      },
      "source": [
        "# Dijkstra, Chebyshev\n",
        "\n",
        "## Find and visualize the path\n",
        "pf = Pathfinder(maze=maze, c = lambda x, y: 1, h = zero_heuristic)\n",
        "pf.visual.show_gif()"
      ],
      "execution_count": null,
      "outputs": []
    },
    {
      "cell_type": "code",
      "metadata": {
        "id": "qpjEvZ6tnMoW"
      },
      "source": [
        "# A*, Chebyshev\n",
        "\n",
        "## Find and visualize the path\n",
        "pf = Pathfinder(maze=maze, c = lambda x, y: 1, h = chebyshev)\n",
        "pf.visual.show_gif()"
      ],
      "execution_count": null,
      "outputs": []
    },
    {
      "cell_type": "markdown",
      "metadata": {
        "id": "03nLw4mfn_lE"
      },
      "source": [
        "Παρατηρώντας τα visualization είναι προφανές πως ο Α* εξετάζει πολύ λιγότερους κόμβους σε σχέση με τον Dijkstra, ο οποίος επεκτείνεται ομοιόμορφα προς όλες τις κατευθύνσεις εξετάζοντας όλους τους κόμβους. Έτσι, ο Α* εκτελείται πολύ πιο γρήγορα από τον Dijkstra.\n",
        "\n",
        "Παρατηρούμε επίσης πως ο Best First, αν και δεν βρίσκει την βέλτιστη λύση είναι σχετικά γρήγορος, σίγουρα πολύ πιο γρήγορος από τον Dijkstra, το οποίο είναι λογικό αν συγκρίνουμε τις χρονικές πολυπλοκότητες που αναφέραμε νωρίτερα. \n",
        "\n",
        "Τέλος, όσον αφορά την χρήση διαφορετικών ευριστικών συναρτήσεων, προφανώς στον Dijkstra δεν προκαλείται καμία διαφορά αφού αυτές δεν λαμβάνονται υπ' όψιν. Η μεγαλύτερη διαφορά γίνεται ορατή στον αλγόριθμο Α*, στον οποίο η απόσταση Manhattan φαίνεται να δίνει την μεγαλύτερη ταχύτητα."
      ]
    },
    {
      "cell_type": "markdown",
      "metadata": {
        "id": "u3Ar_h-6EbZ6"
      },
      "source": [
        "## Μέρος 4\n",
        "\n",
        "Σας δίνεται η συνάρτηση ```draw(filename='filename.png')``` η οποία παράγει ένα interactive grid ώστε να σχηματίσετε το λαβύρινθο. Θεωρήστε ως μαύρο το χρώμα του εμποδίου, πράσινο την αφετηρία και κόκκινο το στόχο, και πατήστε finish για να ολοκληρωθεί η εκτέλεση του τρέχοντος κελιού. Σε περίπτωση που θέλετε να παράξετε νέο λαβύρινθο, απλά ξανατρέξτε το κελί, επιλέξτε τα τετράγωνα και πατήστε finish. Κάθε εκτέλεση αποθηκεύει την εικόνα σε μορφή png σε όνομα που μπορείτε να καθορίσετε μέσω του filename (τοποθετώντας και την κατάληξη .png) κατά την κλήση της συνάρτησης.  \n",
        "\n",
        "Μπορείτε να το δοκιμάσετε τρέχοντας το επόμενο κελί κώδικα.\n"
      ]
    },
    {
      "cell_type": "code",
      "metadata": {
        "id": "k58iY7EPSa_m"
      },
      "source": [
        "from IPython.display import HTML, Image\n",
        "from google.colab.output import eval_js\n",
        "from base64 import b64decode\n",
        "import PIL\n",
        "\n",
        "\n",
        "canvas_html = \"\"\"\n",
        "<canvas width=301 height=301></canvas>\n",
        "<br>\n",
        "\n",
        "<button id = \"start\" style=\"background-color: #008000\">Start</button>\n",
        "<button id = \"end\" style=\"background-color: #800000\">End</button>\n",
        "<button id = \"finish\">Finish</button>\n",
        "<script>\n",
        "\n",
        "var canvas = document.querySelector('canvas')\n",
        "var ctx = canvas.getContext('2d')\n",
        "\n",
        "for (var x = 0.5; x < 301; x += 20) {\n",
        "  ctx.moveTo(x, 0);\n",
        "  ctx.lineTo(x, 300);\n",
        "}\n",
        "\n",
        "for (var y = 0.5; y < 301; y += 20) {\n",
        "  ctx.moveTo(0, y);\n",
        "  ctx.lineTo(300, y);\n",
        "}\n",
        "\n",
        "ctx.strokeStyle = \"#000\";\n",
        "ctx.stroke();\n",
        "\n",
        "var button = document.getElementById('finish')\n",
        "var start_button = document.getElementById('start')\n",
        "var end_button = document.getElementById('end')\n",
        "\n",
        "\n",
        "start_button.onclick = ()=>{\n",
        "    ctx.fillStyle=\"#008000\";\n",
        "  }\n",
        "\n",
        "end_button.onclick = ()=>{\n",
        "    ctx.fillStyle=\"#800000\";\n",
        "  }\n",
        "   \n",
        "\n",
        "var mouse = {x: 0, y: 0}\n",
        "canvas.addEventListener('mousemove', function(e) {\n",
        "  mouse.x = e.pageX - this.offsetLeft\n",
        "  mouse.y = e.pageY - this.offsetTop\n",
        "})\n",
        "\n",
        "function getMousePos(canvas, evt) {\n",
        "        var rect = canvas.getBoundingClientRect();\n",
        "        return {\n",
        "          x: evt.x - rect.left,\n",
        "          y: evt.y - rect.top\n",
        "        };\n",
        "      }\n",
        "\n",
        "function getNearestSquare(position) {\n",
        "    var x = position.x;\n",
        "    var y = position.y;\n",
        "\n",
        "    if (x < 0 || y < 0) return null;\n",
        "    x = (Math.floor(x / 20) * 20) + 0.5\n",
        "    y = (Math.floor(y / 20) * 20) + 0.5\n",
        "    return {x: x, y: y};\n",
        "}\n",
        "\n",
        "function containsObject(obj, list) {\n",
        "    var i;\n",
        "    for (i = 0; i < list.length; i++) {\n",
        "        if (list[i].x === obj.x && list[i].y == obj.y) {\n",
        "            return i;\n",
        "        }\n",
        "    }\n",
        "    return -1;\n",
        "}\n",
        "\n",
        "borders = []\n",
        "\n",
        "canvas.onmousedown = ()=>{\n",
        "    var pos = getNearestSquare(getMousePos(canvas, mouse));\n",
        "    if (pos != null) {\n",
        "        index = containsObject(pos, borders)\n",
        "        if (index != -1){\n",
        "            borders.splice(index, 1)\n",
        "            ctx.clearRect(pos.x + 1, pos.y, 19, 19)\n",
        "        }\n",
        "        else{\n",
        "            ctx.fillRect(pos.x+1,pos.y+1,18,18);\n",
        "            borders.push(pos)\n",
        "        }\n",
        "        ctx.fillStyle=\"#000000\";\n",
        "    }\n",
        "}\n",
        "var data = new Promise(resolve=>{\n",
        "  button.onclick = ()=>{\n",
        "    resolve(canvas.toDataURL('image/png'))\n",
        "  }\n",
        "})\n",
        "</script>\n",
        "\"\"\"\n",
        "\n",
        "def draw(filename='drawing.png'):\n",
        "  display(HTML(canvas_html))\n",
        "  data = eval_js(\"data\")\n",
        "  print (data)\n",
        "  binary = b64decode(data.split(',')[1])\n",
        "  with open(filename, 'wb') as f:\n",
        "    f.write(binary)\n",
        "  return len(binary)\n",
        "\n",
        "\n",
        "draw()"
      ],
      "execution_count": null,
      "outputs": []
    },
    {
      "cell_type": "markdown",
      "metadata": {
        "id": "aeYumpL5FrUF"
      },
      "source": [
        "Οι συναρτήσεις στο παρακάτω κελί κώδικα είναι βοηθητικές. Μετατρέπουν την εικόνα που αποθηκεύεται από την ```draw``` του προηγούμενου κελιου ξανά σε αντικείμενο τύπου Maze για να μπορέσετε να τρέξετε τους αλγορίθμους που έχετε υλοποιήσει καθώς και τον κώδικα visualization που σας δίνεται."
      ]
    },
    {
      "cell_type": "code",
      "metadata": {
        "id": "D8fS2Z9Xg4fS"
      },
      "source": [
        "def find_points(image_array, pixels):\n",
        "    points = []\n",
        "    for grid_i, i in enumerate(range (10, image_array.shape[0]-10, 20)):\n",
        "        for grid_j, j in enumerate(range (10, image_array.shape[1]-10, 20)):\n",
        "            if np.array_equal(image_array[i][j], pixels):\n",
        "                points.append([grid_i+1, grid_j+1])\n",
        "    return points\n",
        "\n",
        "def load_maze(fname='/content/drawing.png'):\n",
        "    N = 17\n",
        "    image = PIL.Image.open(fname)\n",
        "    image_array = np.round(np.array(image)/255)\n",
        "\n",
        "    start_x, start_y = find_points(image_array, [0,1,0,1])[0]\n",
        "    end_x, end_y = find_points(image_array, [1, 0, 0, 1])[0]\n",
        "    walls = find_points(image_array, [0, 0, 0, 1])\n",
        "    new_grid = Maze(N, (start_x, start_y), (end_x, end_y))\n",
        "\n",
        "    for i in range(N):\n",
        "        for j in range(N):\n",
        "            if [i, j] in walls:\n",
        "                new_grid.grid[i,j] = 0\n",
        "            else:\n",
        "                new_grid.grid[i, j] = 1\n",
        "\n",
        "    g = new_grid\n",
        "    g.draw_map()\n",
        "    return g\n"
      ],
      "execution_count": null,
      "outputs": []
    },
    {
      "cell_type": "markdown",
      "metadata": {
        "id": "8o3F5sGT1YNm"
      },
      "source": [
        "\n",
        "Υπενθυμίζεται ότι το output των κελιών που σχηματίζετε διατηρείται για περιορισμένο χρονικό διάστημα στο notebook, γι αυτό καλείστε να αποθηκεύσετε τη φωτογραφία (το πραγματοποιεί η συνάρτηση draw()) και να τη μεταφέρετε στο ανάλογο markdown."
      ]
    },
    {
      "cell_type": "markdown",
      "metadata": {
        "id": "tprNeqaPIdlW"
      },
      "source": [
        "### 4.1.  "
      ]
    },
    {
      "cell_type": "code",
      "metadata": {
        "id": "vF3u1cCeIo9H"
      },
      "source": [
        "draw(filename='4.1.png')"
      ],
      "execution_count": null,
      "outputs": []
    },
    {
      "cell_type": "markdown",
      "metadata": {
        "id": "xC6w7zbZDey7"
      },
      "source": [
        "#### Ο λαβύρινθος που σχεδιάζουμε είναι ο εξής:\n",
        "\n",
        "\n",
        "![4.1.png](data:image/png;base64,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)"
      ]
    },
    {
      "cell_type": "markdown",
      "metadata": {
        "id": "_cb_bq8LKv_Z"
      },
      "source": [
        "#### Σχολιασμός:"
      ]
    },
    {
      "cell_type": "markdown",
      "metadata": {
        "id": "--hfwldKChW2"
      },
      "source": [
        "Ο αλγόριθμος Hill Climbing παρατίθεται παρακάτω: \n",
        "\n",
        "1.   Όρισε τον τρέχοντα κόμβο ως τη ρίζα του δένδρου\n",
        "2.   Όσο ο τρέχων κόμβος δεν είναι κόμβος στόχος, εκτέλεσε:\n",
        "    \n",
        "    *2α.* Βρες τα παιδιά του τρέχοντος κόμβου, και στη συνέχεια βρες αυτό με την ελάχιστη υπολογιζόμενη υπόλοιπη απόσταση από το στόχο\n",
        "\n",
        "    *2β.* Εάν ο τρέχων κόμβος δεν έχει παιδιά ή το παιδί που βρέθηκε στο βήμα 2.α έχει μεγαλύτερη τιμή ευρετικής συνάρτησης από τον τρέχων κόμβο πήγαινε στο βήμα 3\n",
        "\n",
        "    *2γ.* Όρισε τον κόμβο που βρέθηκε στο Βήμα 2.α ως τρέχων κόμβο.\n",
        "\n",
        "3.   Εάν βρήκαμε ένα κόμβο στόχο τότε ανακοινώνουμε επιτυχία\n",
        "αλλιώς ανακοινώνουμε αποτυχία\n",
        "\n",
        "Είναι, λοιπόν, φανερό ότι λόγω του βήματος 2β, αν η τιμή της ευρετικής συνάρτησης ενός κόμβου παιδιού είναι μεγαλύτερη από την τιμή της ευρετικής για τον εξεταζόμενο κόμβο πατέρα η εκτέλεση του αλγορίθμου θα σταματήσει ανεξάρτητα από τον αν έχει βρεί μονοπάτι από την αφεττηρία S προς τον προορισμό F.\n",
        "\n",
        "Στον παραπάνω λαβύρινθο ξεκινώντας από την αφετηρία S η μόνη επιλογή-παιδί είναι ο κόμβος στα δεξιά του, έστω w, ο οποίος είναι πιο μακριά από τον προορισμό F (θα έχει μεγαλύτερη ευριστική τιμή σύμφωνα με όλες τις ευριστικές συναρτήσεις που έχουν χρησιμοποιηθεί). Επόμενως θα ισχύει h(w) > h(S), άρα στο βήμα 2β η εκτέλεση του αλγορίθμου θα σταματήσει και δεν θα βρεθεί μονοπάτι από την αφετηρία προς τον στόχο για τον παραπάνω λαβύρινθο.\n"
      ]
    },
    {
      "cell_type": "markdown",
      "metadata": {
        "id": "CxyUgnTaIhHa"
      },
      "source": [
        "### 4.2.  "
      ]
    },
    {
      "cell_type": "code",
      "metadata": {
        "id": "ZT1RxaUJJBok"
      },
      "source": [
        "draw(filename='4.2.png')"
      ],
      "execution_count": null,
      "outputs": []
    },
    {
      "cell_type": "markdown",
      "metadata": {
        "id": "2whQnhT7JGbR"
      },
      "source": [
        "#### Ο λαβύρινθος που σχεδιάζουμε είναι ο εξής:\n",
        "\n",
        "![4.2.png](data:image/png;base64,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)"
      ]
    },
    {
      "cell_type": "code",
      "metadata": {
        "colab": {
          "base_uri": "https://localhost:8080/",
          "height": 252
        },
        "id": "JQhGN1gEJn3l",
        "outputId": "d17dd10e-4634-407e-d53d-edf0c8fead93"
      },
      "source": [
        "g = load_maze('4.2.png')"
      ],
      "execution_count": null,
      "outputs": [
        {
          "output_type": "display_data",
          "data": {
            "image/png": "[encoded data removed]",
            "text/plain": [
              "<Figure size 432x288 with 1 Axes>"
            ]
          },
          "metadata": {}
        }
      ]
    },
    {
      "cell_type": "markdown",
      "metadata": {
        "id": "rqkBAbUZI3lQ"
      },
      "source": [
        "#### Παρατηρούμε τα visualizations για τον αλγόριθμο Α*:"
      ]
    },
    {
      "cell_type": "code",
      "metadata": {
        "id": "lY7xH8oCI3lR"
      },
      "source": [
        "pf = Pathfinder(g, c= lambda x, y: 1, h= manhattan)   # Α* with manhattan distance\n",
        "g.draw_map(pf.get_path())\n",
        "pf.visual.show_gif()"
      ],
      "execution_count": null,
      "outputs": []
    },
    {
      "cell_type": "code",
      "metadata": {
        "id": "D65eb5tAI3lR"
      },
      "source": [
        "pf = Pathfinder(g, c= lambda x, y: 1, h= euclidean)   # Α* with euclidean distance\n",
        "g.draw_map(pf.get_path())\n",
        "pf.visual.show_gif()"
      ],
      "execution_count": null,
      "outputs": []
    },
    {
      "cell_type": "markdown",
      "metadata": {
        "id": "FMzkKwEJJwS2"
      },
      "source": [
        "#### Σχολιασμός:"
      ]
    },
    {
      "cell_type": "markdown",
      "metadata": {
        "id": "8KhPUq6UKp9Q"
      },
      "source": [
        "Παρατηρώντας τα visualizations για τον αλγόριθμο Α* \n",
        "βλέπουμε ότι και για τις δύο ευριστικές συναρτήσεις, manhattan και ευκλείδια, εξερευνούνται όλες οι πιθανές διαδρομές πριν βρεθεί η (βέλτιστη) διαδρομή που οδηγεί στον προορισμό F, άρα ο \n",
        "Α* αργεί όσο το δυνατόν περισσότερο να βρεί το σωστό μονοπάτι προς τον προορισμό. Αυτό συμβαίνει γιατί όταν ο αλγόριθμος βρίσκεται σε σημείο που μπορεί να επιλέξει κόμβο ο οποίος οδηγεί σε ένα από τα αδιέξοδα, έστω w, ή κόμβο της σωστής διαδρομής, έστω r, διαλέγει πάντα τον κόμβο w προς τα αδιέξοδα. Το παραπάνω εξηγείται ως εξής: Η πραγματική απόσταση από την αφετηρια S μέχρι εκεί είναι η ίδια g(w) = g(r) και η ευριστική θα είναι μικρότερη για τον κόμβο w, διότι σε όποιο σταυροδρόμι και να βρεθούμε αν επιλεχθεί ο κόμβος w πλησιάζουμε στον προορισμό, ενώ με τον κόμβο r απομακρυνόμαστε, δηλαδή αν ο τρέχων εξεταζόμενος κόμβος είναι ο curr, και για τις δύο εν λόγω ευριστικές θα ισχύει h(w) < h(curr) < h(r), άρα [ h(w) + g(w) ] < [ h(r) + g(r) ]. Όσο προχωράει η εξερεύνηση του μονοπατιού προς το αδιέξοδο, στην απόσταση manhattan η τιμή της ευριστικής μειώνεται κατά 1, ενώ η πραγματική απόσταση από την αφετηρία αυξάνεται κατά 1, με αποτέλεσμα το άθροισμα των δύο να παραμένει σταθερό, άρα και πάντα μικρότερο από το άθροισμα h(r) + g(r), επομένως για ευριστική συνάρτηση την manhattan εξερευνούνται πάντα όλοι οι κόμβοι μέχρι τον τοίχο στο συγκεκριμένο αδιέξοδο (που περιέχει τον w) και ύστερα θα εξερευνηθεί ο κόμβος r. Από την άλλη, για ευριστική συνάρτηση την ευκλείδια, η πραγματική απόσταση από την αφετηρία αυξάνεται κατά 1, ενώ η ευριστική απόσταση μειώνεται, αλλά αυτή την φορά λιγότερο από 1, με αποτέλεσμα η συνολική απόσταση h + g να αυξάνεται ελαφρώς, αλλά όχι αρκετά για να επιλεχθεί ο κόμβος r. Παρατηρούμε ότι ακόμα και να συνεχίσει η εξερέυνηση προς τον κόμβο r (στο σωστό μονοπάτι προς τον προορισμό), μετά από 1-2 βήματα η απόσταση h + g θα ξεπεράσει και πάλι την απόσταση του κόμβου στον οποίο είχαμε μείνει στο αδιέξοδο, επομένως όλα τα αδιέξοδα θα εξερευνηθούν πλήρως πολύ πριν ο αλγόριθμος προλάβει να βρει το σωστό μονοπάτι προς στον προορισμό.\n",
        "Με λίγα λόγια, στον λαβύρινθο που σχεδιάσαμε ο αλγόριθμος Α*, όποια από τις δύο ευριστικές και να χρησιμοποιηθεί, κάνει πάντα την χειρότερη επιλογή, διότι έχουμε φροντίσει όταν πρέπει να επιλέξει ανάμεσα σε πολλους κόμβούς, αυτός που θα επιλεχθεί (αυτός δηλαδή με το μικρότερο h + g) να οδήγει όσες περισσότερες φορές είναι δυνατόν σε αδιέξοδο. \n",
        "\n",
        "\n",
        "Το είδος του μονοπατιού, για το οποίο η επιλογή διαφορετικής μετρικής απόστασης (Ευκλίδεια/Manhattan) ως ευριστικής οδηγεί τον Α* \n",
        "να βρίσκει το μονοπάτι πιο γρήγορα, είναι κάθε μονοπάτι στο οποίο η ευριστική της ευκλείδιας απόστασης δεν ταυτίζεται με την πραγματική απόσταση μέχρι τον προορισμό, δηλαδή κάθε μονοπάτι το οποίο δεν είναι ευθεία. Ο λόγος για αυτό είναι πως, καθώς στον λαβύρινθο μπορούμε να κινούμαστε μόνο οριζόντια ή κάθετα και όχι διαγώνια, στην περίπτωση που η αφετηρία και ο προορισμός δεν βρίσκονται στην ίδια οριζόντια ή κάθετη ευθεία η ευκλείδια απόσταση θα υποεκτιμά την πραγματική απόσταση πολύ πιο έντονα σε σχέση με την manhattan απόσταση. Έτσι οι ευριστικές που θα λαμβάνει ο αλγόριθμός μας χρησιμοποιώντας την ευκλείδια απόσταση θα απέχουν περισσότερο από τις πραγματικές αποστάσεις, γεγονός που επιδρά και στην ικανότητα του αλγορίθμου να επιλέγει την βέλτιστη διαδρομή έχοντας πληροφορίες για την απόσταση από τον προορισμό. Ένα παράδειγμα το οποίο αναδεικνύει πως η υποεκτίμηση της ευκλείδιας απόστασης σε σχέση με την manhattan μπορεί να επιδράσει αρνητικά στις επιλογές που κάνει ο αλγόριθμος Α* είναι το εξής: Έστω ότι σε κάποιο βήμα εκτέλεσης του αλγορίθμου μας αυτός καλείται να επιλέξει ποιον κόμβο θα εντάξει στο κλειστό σύνολο μεταξύ δύο κόμβων u και v και έστω ότι ο κόμβος v ανήκει στο βέλτιστο μονοπάτι, ενώ ο u όχι. Θεωρούμε ότι η απόσταση του u από την αφετηρία είναι μικρότερη της απόστασης του v από την αφετηρία με διαφορά α ( g(v) = g(u) + α ). Έστω ότι εκτιμώντας τις ευριστικές τιμές των u και v με χρήση της ευκλείδιας απόστασης προκύπτει ότι η ευριστική του u είναι μεγαλύτερη της ευριστικής του v κατα β ( h(u) = h(v) + β ) και εκτιμώντας τις ευριστικές τιμές των u και v με χρήση της manhattan απόστασης προκύπτει ότι η ευριστική του u είναι μεγαλύτερη της ευριστικής του v κατα γ ( h(u) = h(v) + γ ). Για να επιλεγεί ο κόμβος u ως επόμενο βήμα πρέπει να ισχύει g(u) + h(u) < g(v) + h(v) άρα h(u) - h(v) < g(v) - g(u) άρα β < α για την ευκλείδια απόσταση και γ < α για την manhattan, όμως αφού η ευκλείδια απόσταση είναι πάντα μικρότερη από την manhattan για μονοπάτι που δεν είναι ευθεία θα ισχύει β < γ, επομένως θα μπορούσε να προκύψει περίπτωση που β < α < γ, στην οποία \n",
        "ο αλγόριθμος Α* όταν χρησιμοποιεί ως ευριστική την ευκλείδια απόσταση θα επιλέξει ως επόμενο προς εξέταση τον κόμβο u ενώ η manhattan τον v, έτσι η χρήση της ευκλείδιας απόστασης θα οδηγήσει σε τουλάχιστον ένα παραπάνω περιττό βήμα και άρα η manhattan απόσταση είναι καλύτερη επιλογή."
      ]
    },
    {
      "cell_type": "markdown",
      "metadata": {
        "id": "rqqmkt3U_9q1"
      },
      "source": [
        "### 4.3."
      ]
    },
    {
      "cell_type": "code",
      "metadata": {
        "id": "UwqILZmBJjJ-"
      },
      "source": [
        "draw(filename='4.3.png')"
      ],
      "execution_count": null,
      "outputs": []
    },
    {
      "cell_type": "markdown",
      "metadata": {
        "id": "-A3mBvHiJoQq"
      },
      "source": [
        "#### Ο λαβύρινθος που σχεδιάζουμε είναι ο εξής:\n",
        "\n",
        "![4.3.png](data:image/png;base64,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)"
      ]
    },
    {
      "cell_type": "code",
      "metadata": {
        "id": "apabzO95ACov",
        "colab": {
          "base_uri": "https://localhost:8080/",
          "height": 252
        },
        "outputId": "17007a7b-1afc-4fe6-eada-d7b5ebd4a035"
      },
      "source": [
        "g = load_maze('4.3.png')"
      ],
      "execution_count": null,
      "outputs": [
        {
          "output_type": "display_data",
          "data": {
            "image/png": "[encoded data removed]",
            "text/plain": [
              "<Figure size 432x288 with 1 Axes>"
            ]
          },
          "metadata": {}
        }
      ]
    },
    {
      "cell_type": "markdown",
      "metadata": {
        "id": "s_QnN3BvHZcx"
      },
      "source": [
        "#### Παρατηρούμε το visualization για τον αλγόριθμο Best First:"
      ]
    },
    {
      "cell_type": "code",
      "metadata": {
        "id": "HCTilEcUHZcy"
      },
      "source": [
        "pf = Pathfinder(g, c= lambda x, y: 0, h= manhattan)   # Best First with manhattan distance\n",
        "g.draw_map(pf.get_path())\n",
        "pf.visual.show_gif()"
      ],
      "execution_count": null,
      "outputs": []
    },
    {
      "cell_type": "code",
      "metadata": {
        "id": "qWP8xcLqHZcz"
      },
      "source": [
        "pf = Pathfinder(g, c= lambda x, y: 0, h= euclidean)   # Best First with euclidean distance\n",
        "g.draw_map(pf.get_path())\n",
        "pf.visual.show_gif()"
      ],
      "execution_count": null,
      "outputs": []
    },
    {
      "cell_type": "markdown",
      "metadata": {
        "id": "mG2Qt6aWHi2G"
      },
      "source": [
        "#### Παρατηρούμε το visualization για τον αλγόριθμο Α*:"
      ]
    },
    {
      "cell_type": "code",
      "metadata": {
        "id": "Wj7WQm5bHi2H"
      },
      "source": [
        "pf = Pathfinder(g, c= lambda x, y: 1, h= manhattan)   # Α* with manhattan distance\n",
        "g.draw_map(pf.get_path())\n",
        "pf.visual.show_gif()"
      ],
      "execution_count": null,
      "outputs": []
    },
    {
      "cell_type": "code",
      "metadata": {
        "id": "ETH_W8FtHi2H"
      },
      "source": [
        "pf = Pathfinder(g, c= lambda x, y: 1, h= euclidean)   # Α* with euclidean distance\n",
        "g.draw_map(pf.get_path())\n",
        "pf.visual.show_gif()"
      ],
      "execution_count": null,
      "outputs": []
    },
    {
      "cell_type": "markdown",
      "metadata": {
        "id": "_77wlVY5KSAr"
      },
      "source": [
        "#### Σχολιασμός:"
      ]
    },
    {
      "cell_type": "markdown",
      "metadata": {
        "id": "FnbhMzA4KmlR"
      },
      "source": [
        "Γνωρίζουμε ότι η διαφορά ανάμεσα στους εξεταζόμενους αλγορίθμους είναι ότι ο greedy Best First δεν λαμβάνει υπόψιν του την πραγματική απόσταση g από την αφετηρία, δηλαδή αποφασίζει ποιος θα έίναι ο επόμενος κόμβος που θα εξετάσει μόνο με βάση τις τιμές της ευριστικής συνάρτησης των κόμβων του μετώπου αναζήτησης, ενώ ο Α* παίρνει την προαναφερθείσα απόφαση με βάση το άθροισμα της πραγματικής απόστασης από την αφετηρία και της τιμής της ευριστικής (h + g). \n",
        "Για την κατασκευή λαβυρίνθου που ο greedy Best First θα τρέχει σημαντικά πιο αργά απο τον Α* εκμεταλλευόμαστε την διαφορά αυτή. Αναλυτικότερα, η αφετηρία και ο προορισμός έχουν τοποθετηθεί στρατηγικά στον λαβύρινθο ώστε ο πρώτος κόμβος του σωστού μονοπατιού που οδηγεί στον προορισμό, εστω r, να έχει τιμή ευριστικής (manhattan και ευκλείδια) μεγαλύτερη από οποιοδήποτε άλλο κόμβο-πέρασμα ( h(r) = hmax ), δηλαδή ο r είναι ο πιο απομακρυσμένος κόμβος από τον προορισμό (βρίσκεται στην μεγαλύτερη δυνατή διαγώνιο όσο πιο μακριά γίνεται). Επιπλέον στον λαβύρινθο που σχεδιάστηκε η εναλλακτική διαδρομή, που δεν περνα από τον κόμβο r, οδηγεί σε ένα εξαιρετικά μακρύ μονοπάτι που καταλήγει σε αδιέξοδο. Ο αλγόριθμος greedy Best First όταν έχει επιλογή ανάμεσα στον κόμβο r και οποιονδήποτε άλλο κόμβο του λαβυρίνθου, έστω w, θα επιλέγει πάντα τον κόμβο w, αφού h(r) = hmax άρα θα ισχύει h(w) < h(r) για κάθε κόμβο του λαβυρίνθου w. Άρα ο greedy Best First θα εξερεύνησει πρώτα όλο το μακρύ μονοπάτι που οδηγεί σε αδιέξοδο και μόνο αφού βρει τοίχο (ο μόνος κόμβος στο μέτωπο αναζήτησης είναι πλέον ο r) θα ξεκινήσει να εξερευνά τον r άρα και τους υπόλοιπους κόμβους του σωστού μονοπατιού. \n",
        "Από την άλλη ο αλγόριθμος Α* λαμβάνει υπόψιν και την πραγματική απόσταση από την αφετηρία g, επομένως θα ξεκινήσει να εξερευνά το λάθος μονοπάτι που οδηγεί σε αδιέξοδο, αλλά εφόσον έχουμε φροντίσει αυτό να είναι πολύ μακρύ, θα φτάσει σε ένα σημείο που η απόσταση g θα μεγαλώσει τόσο πολύ για τους εξεταζόμενους κόμβους στο λάθος μονοπάτι που θα ισοσταθμίσει την μεγάλη τιμή της ευριστικης του r και άρα πολύ πριν φτάσει στον τοίχο του αδιεξόδου θα ξεκινήσει να εξετάζει τους κόμβους του σωστού προς τον προορισμό μονοπατιού. \n",
        "Επομένως, όπως επιβεβαιώνεται και από την παρατήρηση των παραπάνω visualizations, ο Α* δεν θα εξετάσει πολλούς κόμβους στο αδιέξοδο μονοπάτι με αποτέλεσμα να τρέχει σημαντικά γρηγορότερα από τον greedy Best First που θα εξετάσει πρώτα όλους τους κόμβους στο πολύ μακρύ αδιέξοδο μονοπάτι.\n",
        "\n",
        "\n",
        "Οι αλγόριθμοι greedy Best First και Α* συμπεριφέρονται με τον ίδιο τρόπο σε περίπτωση που η πραγματική απόσταση από την αφετηρία δεν παίζει καθοριστικό ρόλο στην εξέλιξη του αλγορίθμου. Παρακάτω περιγράφονται δύο παραδείγματα λαβυρίνθων στους οποίους ισχύει η παραπάνω πρόταση.\n",
        "\n",
        "* Στην πρώτη περίπτωση ο λαβύρινθος μοιάζει αρκετά με την απάντηση που δώσαμε, δηλαδή θα έχει 2 μόνο δυνατά μονοπάτια από την αφετηρία, αλλά και οι 2 αλγόριθμοι θα εξετάσουν μόνο το ένα μονοπάτι και θα βρίσκουν την βέλτιστη λύση, χωρίς να εξερευνήσουν κανέναν κόμβο του δεύτερου μονοπατιού. Συγκεκριμένα η αφετηρία θα έχει μόνο 2 παιδιά, έστω r και w, ένα από τα οποία, έστω το r, έχει την μεγαλύτερη ευριστική απόσταση απο τον προορισμό ( h(r) > h(w) ), αλλά το μονοπάτι προς τον προορισμό αυτήν την φορά θα περιλαμβάνει τον κόμβο w και όχι τον r και ο τερματικός κόμβος να έχει τοποθετηθεί σε σημείο του μονοπατιού ώστε να ισχύει h(r) + g(r) = h(r) + 1 > [h(i) + g(i)]max (σχέση 1), όπου i είναι ο κόμβος του σωστού μονοπατιού που μεγιστοποιεί την απόσταση h + g. Σε αυτή την περίπτωση για τον αλγόριθμο greedy Best First ο πρώτος κόμβος που θα επιλεχθεί θα είναι ο w, επομένως ο αλγόριθμος θα ακολούθησει κατευθείαν το σωστό μονοπάτι. Όσο θα πλησιαζεί τον προορισμό οι τιμές των ευριστικών θα μειώνονται (g = 0 , ισχύει πάντα h(r) + 1 > [h(x) + g(x)] > h(x) για κάθε x), οπότε δεν θα ξεπεράσουν ποτέ την τιμή του h(r), ο οποίος δεν θα εξερευνηθεί. \n",
        "Για τον αλγόριθμο Α* θα εξερευνηθεί πρώτα ο w αφού h(r) > h(w) και g(r) = g(w) = 1 και εφόσον έχουμε φροντίσει να ισχύει η σχέση (1) θα βρεθεί το βέλτιστο μονοπάτι χωρίς να επιλεχθεί ποτέ ο κόμβος r προς εξερεύνηση\n",
        "από τον αλγόριθμο Α*.\n",
        "\n",
        "Παρακάτω δίνεται για ευκολότερη κατανόηση μια εικόνα ενός τέτοιου λαβυρίνθου:\n",
        "\n",
        "![4.3 (1).png](data:image/png;base64,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)\n",
        "\n",
        "* Ένα άλλο, αρκετά πιο ειδικό, παράδειγμα είναι όταν το μονοπάτι από την αφετηρία στον προορισμό είναι μια ευθεία. Σε αυτή την περίπτωση, στο πρώτο βήμα, από τους γείτονες της αφετηρίας θα επιλεχθεί και για τους 2 αλγορίθμους αυτός που βρίσκεται πιο κοντά στον προορισμό γιατί αυτός έχει την μικρότερη συγκρινόμενη απόσταση με βάση την manhattan ή ευκλείδια ευριστική  \n",
        "(και εφόσον σε αυτό το βήμα για τον Α* η πραγματική απόσταση από την αφετηρία g είναι για όλους τους εξεταζόμενους κόμβους 1). Εφόσον το βέλτιστο μονοπάτι προς τον προορισμό είναι μια ευθεία, ο κόμβος που επιλέχθηκε στο πρώτο βήμα προς εξέταση θα είναι μέρος του μονοπατιού, καθώς και οι επόμενοι κόμβοι που θα επιλεχθούν θα είναι πάνω στην ίδια ευθεία. Στην περίπτωση του Best First αυτό συμβαίνει γιατί οι κόμβοι της ευθείας θα έχουν μικρότερο h από όλους τους κόμβους του ανοιχτού μετώπου (και τους άλλους γείτονες του εν λόγω εξεταζόμενου κόμβου που δεν βρίσκονται πάνω στην ευθεία και τους υπόλοιπους κόμβους του μετώπου αναζήτησης που είναι πιο απομακρυσμένοι). \n",
        "Από την άλλη στην περίπτωση του Α* οι κόμβοι της ευθείας έχουν πάντα το ελάχιστο (h + g). Θεωρούμε ότι ο παρών εξεταζόμενος κόμβος είναι ο w, ο οποίος είναι μέρος της ευθείας προς τον προορισμό. Όσον αφορά τους γείτονες-παιδιά του w ειναι προφανές πως μικρότερο h+g θα έχει ο κόμβος που είναι πάνω στην ευθεία (πιο κοντά) προς τον προορισμό, μιας και η απόσταση από την αφετηρία είναι η ίδια, ενώ ο κόμβος που βρίσκεται στην ίδια ευθεία με τον προορισμό θα έχει πάντα μικρότερη ευριστική από τα άλλα παιδιά που δεν βρίσκονται στην ευθεία του προορισμού. Όσον αφορά όμως τους κόμβους που έχουν προστεθεί νωρίτερα στο μέτωπο αναζήτησης η σκέψη του γιατί δεν θα εξερευνηθούν είναι ελαφρώς πολυπλοκότερη. Συγκεκριμένα για κάθε κόμβο για τον οποίο θα προχωράμε πάνω στην ευθεία θα αυξάνεται κατα 1 η πραγματική απόσταση g από την αφετηρία αλλά θα μειώνεται κατα 1 η ευριστική h είτε επιλεχθεί η manhattan είτε η ευκλείδια απόσταση, οπότε το αθροισμα h+g αυτών παραμένει πάντα σταθερό. Ξέρουμε επίσης ότι το άθροισμα h+g των κόμβων της ευθείας θα είναι μικρότερο από τα h(i)+g(i) οποιουδήποτε άλλου κόμβου, έστω i, που έχει προστεθεί νωρίτερα στο μέτωπο αναζήτησης, διότι εφόσον οι κόμβοι i έχουν προστεθεί στο μέτωπο αναζήτησης σε προηγούμενο βήμα, όταν επιλέχθηκε ο κόμβος w προς εξερεύνηση συγκρίθηκε η απόστασή του h+g (που είναι ίδια με το h+g για όλους τους κόμβους της ευθείας) με την απόσταση h(i)+g(i) κάθε κόμβου i, άρα ξέρουμε σίγουρα ότι h+g < h(i)+g(i), για αυτό και οι κόμβοι αυτοί (που έχουν προστεθεί σε προηγούμενο βήμα στο μέτωπο αναζήτησης αλλά δεν έχουν επιλεχθεί προς εξερεύνηση αμέσως) δεν θα εξερευνηθούν ποτέ. \n",
        "Επομένως καταλήγουμε ότι όντως για τον Α* σε όλες τις περιπτώσεις επιλέγεται πάντα κόμβος της σωστής ευθείας προς τον προορισμό.\n",
        "Άρα και σε αυτήν την περίπτωση \n",
        "οι αλγόριθμοι greedy Best First και Α* συμπεριφέρονται ακριβώς με τον ίδιο τρόπο."
      ]
    },
    {
      "cell_type": "markdown",
      "metadata": {
        "id": "x41xMK-VAGHp"
      },
      "source": [
        "### 4.4.  "
      ]
    },
    {
      "cell_type": "code",
      "metadata": {
        "id": "HM98uRhG8bps"
      },
      "source": [
        "draw(filename='4.4.png')"
      ],
      "execution_count": null,
      "outputs": []
    },
    {
      "cell_type": "markdown",
      "metadata": {
        "id": "64ccUCno8bpt"
      },
      "source": [
        "#### Ο λαβύρινθος που σχεδιάζουμε είναι ο εξής:\n",
        "\n",
        "![4.4.png](data:image/png;base64,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)"
      ]
    },
    {
      "cell_type": "code",
      "metadata": {
        "colab": {
          "base_uri": "https://localhost:8080/",
          "height": 252
        },
        "id": "METQQO-R8bpt",
        "outputId": "2e942e8a-6bf5-40c4-b9ec-2cd577098f9b"
      },
      "source": [
        "g = load_maze('4.4.png')"
      ],
      "execution_count": null,
      "outputs": [
        {
          "output_type": "display_data",
          "data": {
            "image/png": "[encoded data removed]",
            "text/plain": [
              "<Figure size 432x288 with 1 Axes>"
            ]
          },
          "metadata": {}
        }
      ]
    },
    {
      "cell_type": "markdown",
      "metadata": {
        "id": "X6WNyy7i9Yo0"
      },
      "source": [
        "#### Παρατηρούμε το visualization για τον αλγόριθμο Α*:"
      ]
    },
    {
      "cell_type": "code",
      "metadata": {
        "id": "jj7qXkIP8bpt"
      },
      "source": [
        "pf = Pathfinder(g, c= lambda x, y: 1, h= manhattan)   # Α* with manhattan distance\n",
        "g.draw_map(pf.get_path())\n",
        "pf.visual.show_gif()"
      ],
      "execution_count": null,
      "outputs": []
    },
    {
      "cell_type": "code",
      "metadata": {
        "id": "lvGMdYkJ-6X0"
      },
      "source": [
        "pf = Pathfinder(g, c= lambda x, y: 1, h= euclidean)   # Α* with euclidean distance\n",
        "g.draw_map(pf.get_path())\n",
        "pf.visual.show_gif()"
      ],
      "execution_count": null,
      "outputs": []
    },
    {
      "cell_type": "markdown",
      "metadata": {
        "id": "EHAp0sxr9m90"
      },
      "source": [
        "#### Παρατηρούμε το visualization για τον αλγόριθμο Dijkstra:"
      ]
    },
    {
      "cell_type": "code",
      "metadata": {
        "id": "0BVr2eIo8bpt"
      },
      "source": [
        "pf = Pathfinder(g, c= lambda x, y: 1, h= zero_heuristic)   # Dijkstra\n",
        "g.draw_map(pf.get_path())\n",
        "pf.visual.show_gif()"
      ],
      "execution_count": null,
      "outputs": []
    },
    {
      "cell_type": "markdown",
      "metadata": {
        "id": "0YshSzt99yqr"
      },
      "source": [
        "#### Σχολιασμός:"
      ]
    },
    {
      "cell_type": "markdown",
      "metadata": {
        "id": "Anddz0IB92to"
      },
      "source": [
        "Όπως διαπιστώνουμε και από τα visualizations, στον λαβύρινθο που σχεδιάσαμε ο αλγόριθμος Dijkstra εντάσσει στο κλειστό σύνολο όλα τα κελιά του λαβυρίνθου που δεν είναι τοίχοι πρωτού καταφέρει να φτάσει στον προορισμό. Αντίθετα, το κλειστό σύνολο του αλγορίμου Α* αποτελείται κυρίως από τους κόμβους που ανήκουν τελικά στο τελικό μονοπάτι προς τον προορισμό: Συγκεκριμένα, με την ευκλείδια απόσταση ως ευριστική εντάσσονται στο κλειστό σύνολο εκτός από τους κόμβους που ανήκουν στο μονοπάτι μόνο λίγοι κόμβοι κοντά στην αφετηρία ενώ με την Manhattan απόσταση ως ευριστική κανένας. Ακόμα και στο ανοιχτό σύνολο, οι κόμβοι που εντάσσονται εκτός αυτών που αποτελούν μέρος του μονοπατιού είναι περιορισμένοι για την ευκλείδια απόσταση και μηδενικοί για την Manhattan. Επομένως ο Α* βρίσκει την βέλτιστη διαδρομή πολύ πιο γρήγορα από τον Dijkstra. \n",
        "\n",
        "Ο λόγος που συμβαίνει αυτό σχετίζεται με το είδος του εμποδίου που χρησιμοποιούμε. Συγκεκριμένα, πρόκεται για ένα εμπόδιο το οποίο οριοθετεί μία διαγώνια διαδρομή από την αφετηρία προς τον προορισμό. Εξηγώντας επομένως πώς επηρεάζει το μέγεθος και είδος του εμποδίου τα βήματα που εκτελεί ο A* και τα βήματα που εκτελεί ο Dijkstra μπορούμε να πούμε τα εξής: \n",
        "* Το εμπόδιο που χρησιμοποιούμε οριοθετεί ουσιαστικά το μονοπάτι προς τον \n",
        "προορισμό. Αυτό όμως δεν επηρεάζει τον Dikstra: Καθώς αυτός εξετάζει τους κόμβους λαμβάνοντας υπ' όψιν μόνο την απόστασή τους από την αφετηρία, επεκτείνεται με ένα είδος \"πλημμύρας\". Έτσι, η βέλτιστη διαδρομή η οποία είναι διαγώνια δεν ακολουθείται με τη μία, αλλά βήμα βήμα, με κάθε βήμα να λαμβάνεται μόνο αφού έχουν επεκταθεί και οι υπόλοιποι κόμβοι που βρίσκονται σε αντίστοιχη απόσταση από την αφετηρία. Έτσι, το εμπόδιο που χρησιμοποιείται δεν περιορίζει τα βήματα του αλγορίθμου Dijkstra.\n",
        "* Σε αντίθεση με τον Dijkstra, στην περίπτωση του Α* το εμπόδιο ασκεί καθοριστικό ρόλο στο πλήθος των βημάτων που αυτός εκτελεί. Οι τοίχοι έχουν τοποθετηθεί με τέτοιο τρόπο ώστε να αποκλείουν κόμβους, των οποίων η απόσταση από την αφετηρία είναι επαρκώς μικρή ώστε το άθροισμα αυτής με την ευριστική να είναι μικρότερο από το άθροισμα απόστασης και ευριστικής άλλών κόμβων, οι οποίοι βρίσκονται πιο κοντά στον προορισμό και έχουν μικρότερη ευριστική αλλά μεγαλύτερη απόσταση από την αφετηρία. Έτσι, λαμβάνονται τελικά οι σωστές αποφάσεις όσον αφορά το να οδηγηθεί ο αλγόριθμος στην βέλτιση λύση πιο γρήγορα και ο αλγόριθμος ακολουθεί την διαγώνιο που ορίζει το είδος του εμποδίου. \n",
        "Όσον αφορά το μέγεθος του εμποδίου, αν αυτό ήταν πιο μικρό, δηλαδή δεν οριοθετούσε μία διαγώνιο από την αρχή ως το τέλος αλλά οριοθετούσε μόνο μέρους της διαγωνίου, τότε μέρος των βημάτων που δεν οδηγούν σε λύση αλλά έχουν μικρότερο άθροισμα απόστασης από την αφετηρία και ευριστικής από άλλα βήματα τα οποία αποτελούν μέρος της βέλτιστης δαιδρομής δεν θα αποκλειόταν πια και άρα ο Α* θα εξέταζε περισσότερους κόμβους. Ομοίως και στην περίπτωση που το εμπόδιο ήταν πιο \"πλατύ\", δηλαδή η διαγώνιος που οριοθετούσε είχε και γειτονικούς κόμβους, ο αλγόριθμος θα έκανε και πάλι επιλογές που δεν οδηγούν στην βέλτιση λύση, εντός της διαγωνίου που οριοθετείται από το εμπόδιο, για τον ίδιο λόγο που εξηγήθηκε και στην προηγούμενη περίπτωση."
      ]
    },
    {
      "cell_type": "markdown",
      "metadata": {
        "id": "KcKfD8ylAOpb"
      },
      "source": [
        "### 4.5.  "
      ]
    },
    {
      "cell_type": "code",
      "metadata": {
        "id": "tzK7U4PfJkIC"
      },
      "source": [
        "draw(filename='4.5.png')"
      ],
      "execution_count": null,
      "outputs": []
    },
    {
      "cell_type": "markdown",
      "metadata": {
        "id": "gudt2lGiJrW0"
      },
      "source": [
        "#### Ο λαβύρινθος που σχεδιάζουμε είναι ο εξής:\n",
        "\n",
        "![4.5.png](data:image/png;base64,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)"
      ]
    },
    {
      "cell_type": "code",
      "metadata": {
        "id": "zT3sxMjVARhy",
        "colab": {
          "base_uri": "https://localhost:8080/",
          "height": 252
        },
        "outputId": "c707100d-c7b8-484e-d174-0b21bdc9891a"
      },
      "source": [
        "g = load_maze('4.5.png')"
      ],
      "execution_count": null,
      "outputs": [
        {
          "output_type": "display_data",
          "data": {
            "image/png": "[encoded data removed]",
            "text/plain": [
              "<Figure size 432x288 with 1 Axes>"
            ]
          },
          "metadata": {}
        }
      ]
    },
    {
      "cell_type": "markdown",
      "metadata": {
        "id": "-ms_bOOOFzlP"
      },
      "source": [
        "#### Παρατηρούμε το visualization για τον αλγόριθμο Α*:"
      ]
    },
    {
      "cell_type": "code",
      "metadata": {
        "id": "v3k9W8oGFzlP"
      },
      "source": [
        "pf = Pathfinder(g, c= lambda x, y: 1, h= manhattan)   # Α* with manhattan distance\n",
        "g.draw_map(pf.get_path())\n",
        "pf.visual.show_gif()"
      ],
      "execution_count": null,
      "outputs": []
    },
    {
      "cell_type": "code",
      "metadata": {
        "id": "Y7aS5uDEFzlQ"
      },
      "source": [
        "pf = Pathfinder(g, c= lambda x, y: 1, h= euclidean)   # Α* with euclidean distance\n",
        "g.draw_map(pf.get_path())\n",
        "pf.visual.show_gif()"
      ],
      "execution_count": null,
      "outputs": []
    },
    {
      "cell_type": "markdown",
      "metadata": {
        "id": "a84X_uuaGEwo"
      },
      "source": [
        "#### Παρατηρούμε το visualization για τον αλγόριθμο Dijkstra:"
      ]
    },
    {
      "cell_type": "code",
      "metadata": {
        "id": "0iiWEQeDGEwp"
      },
      "source": [
        "pf = Pathfinder(g, c= lambda x, y: 1, h= zero_heuristic)   # Dijkstra\n",
        "g.draw_map(pf.get_path())\n",
        "pf.visual.show_gif()"
      ],
      "execution_count": null,
      "outputs": []
    },
    {
      "cell_type": "markdown",
      "metadata": {
        "id": "soTZRIkoE2h3"
      },
      "source": [
        "#### Σχολιασμός:"
      ]
    },
    {
      "cell_type": "markdown",
      "metadata": {
        "id": "4OekMxg9Kgh4"
      },
      "source": [
        "Εδώ δόθηκε ως απάντηση ο ίδιος λαβύρινθος με το ερώτημα 4.2, ο οποίος κάνει τον αλγόριθμο Α*  να αργεί όσο το δυνατόν περισσότερο, οδηγώντας τον να κανει κάθε φορά την χειρότερη επιλογή και ως αποτέλεσμα, όπως εξηγήθηκε αναλυτικά στο 4.2, να εξετάζει κάθε φορά όλους τους κόμβους - περάσματα του λαβυρίνθου. Η επιλογή αυτή γίνεται στοχευμένα, διότι γνωρίζουμε ότι ο αλγόριθμος Dijkstra κάνει αναζήτηση σε μόρφη \"πλημμύρας\", εξετάζοντας όλους τους κόμβους που έχουν ίδια απόσταση από την αφετηρία, άρα σε έναν λαβύρινθο \n",
        "που ο Α* κάνει επιτυχημένες επιλογές σίγουρα δεν θα εξέταζε όλους αυτούς τους κόμβους που εξετάζει ο Dijkstra (θα εξέταζε λιγότερους).\n",
        "Για να εξασφαλίστει, λοιπόν, ότι οι 2 αυτοι αλγόριθμοι θα κάνουν τον ίδιο ακριβώς αριθμό βημάτων επιλέγεται ένας λαβύρινθος που \n",
        "ο Α* κάνει πάντα αποτυχημένες επιλογές ώστε να καταλήξει να εξετάσει όλους τους κόμβους - περάσματα του λαβυρίνθου και που το μήκος του μόνου μονοπατιού από την αφετηρία προς τον προορισμό έχει μήκος αρκετά μεγαλύτερο από κάθε άλλο μονοπάτι του λαβυρίνθου, άρα ο αλγόριθμος Dijkstra θα εξετάσει πρώτα πλήρως όλα τα άλλα μονοπάτια και ύστερα θα καταφέρει να φτάσει στον προορισμό από το σωστο μονοπάτι. \n",
        "\n",
        "Επομένως είναι σίγουρο, και επιβεβαιώνεται και από τα visualizations, ότι οι αλγόριθμοι Α* θα κάνουν τον ίδιο ακριβώς αριθμό βημάτων πριν βρουν το μονοπάτι από την αφετηρία προς τον προορισμό και συγκεκριμένα ξέρουμε ότι θα εξετάσουν όλους τους κόμβους - περάσματα του λαβυρίνθου."
      ]
    }
  ]
}
